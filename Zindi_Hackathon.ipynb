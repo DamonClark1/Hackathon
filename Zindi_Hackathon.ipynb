{
  "nbformat": 4,
  "nbformat_minor": 0,
  "metadata": {
    "colab": {
      "name": "Zindi Hackathon",
      "version": "0.3.2",
      "provenance": []
    },
    "kernelspec": {
      "name": "python3",
      "display_name": "Python 3"
    },
    "accelerator": "GPU"
  },
  "cells": [
    {
      "cell_type": "markdown",
      "metadata": {
        "id": "jEMsuWkhs31P",
        "colab_type": "text"
      },
      "source": [
        "## Importing Packages and Data"
      ]
    },
    {
      "cell_type": "code",
      "metadata": {
        "id": "DWjTlDKcgd1z",
        "colab_type": "code",
        "colab": {}
      },
      "source": [
        "import pandas as pd\n",
        "import numpy as np\n",
        "import matplotlib.pyplot as plt\n",
        "import math\n",
        "import seaborn as sns\n",
        "from sklearn.model_selection import train_test_split\n",
        "from sklearn.model_selection import GridSearchCV, cross_val_score\n",
        "from sklearn.ensemble import RandomForestClassifier\n",
        "from sklearn.metrics import accuracy_score, f1_score, precision_score, recall_score\n",
        "from sklearn.metrics import classification_report, accuracy_score, log_loss"
      ],
      "execution_count": 0,
      "outputs": []
    },
    {
      "cell_type": "code",
      "metadata": {
        "id": "ggCzam4CgdzU",
        "colab_type": "code",
        "colab": {
          "base_uri": "https://localhost:8080/",
          "height": 68
        },
        "outputId": "a4b07f18-3c98-4413-c778-599527722723"
      },
      "source": [
        "test_df = pd.read_csv('test.csv', error_bad_lines=False)\n",
        "train_df = pd.read_csv('training.csv')"
      ],
      "execution_count": 97,
      "outputs": [
        {
          "output_type": "stream",
          "text": [
            "b'Skipping line 17772: expected 15 fields, saw 24\\nSkipping line 35549: expected 15 fields, saw 18\\nSkipping line 47486: expected 15 fields, saw 24\\n'\n",
            "/usr/local/lib/python3.6/dist-packages/IPython/core/interactiveshell.py:2718: DtypeWarning: Columns (6) have mixed types. Specify dtype option on import or set low_memory=False.\n",
            "  interactivity=interactivity, compiler=compiler, result=result)\n"
          ],
          "name": "stderr"
        }
      ]
    },
    {
      "cell_type": "code",
      "metadata": {
        "id": "WYs9gIgQ1uua",
        "colab_type": "code",
        "colab": {}
      },
      "source": [
        "sample_df = pd.read_csv('sample_submission.csv', error_bad_lines=False)\n",
        "xente_df = pd.read_csv('Xente_Variable_Definitions.csv')"
      ],
      "execution_count": 0,
      "outputs": []
    },
    {
      "cell_type": "code",
      "metadata": {
        "id": "3hM-UfI_gd4r",
        "colab_type": "code",
        "colab": {
          "base_uri": "https://localhost:8080/",
          "height": 204
        },
        "outputId": "9251f7d1-d292-441d-ee56-3734785aa093"
      },
      "source": [
        "sample_df.head()"
      ],
      "execution_count": 99,
      "outputs": [
        {
          "output_type": "execute_result",
          "data": {
            "text/html": [
              "<div>\n",
              "<style scoped>\n",
              "    .dataframe tbody tr th:only-of-type {\n",
              "        vertical-align: middle;\n",
              "    }\n",
              "\n",
              "    .dataframe tbody tr th {\n",
              "        vertical-align: top;\n",
              "    }\n",
              "\n",
              "    .dataframe thead th {\n",
              "        text-align: right;\n",
              "    }\n",
              "</style>\n",
              "<table border=\"1\" class=\"dataframe\">\n",
              "  <thead>\n",
              "    <tr style=\"text-align: right;\">\n",
              "      <th></th>\n",
              "      <th>TransactionId</th>\n",
              "      <th>FraudResult</th>\n",
              "    </tr>\n",
              "  </thead>\n",
              "  <tbody>\n",
              "    <tr>\n",
              "      <th>0</th>\n",
              "      <td>TransactionId_50600</td>\n",
              "      <td>NaN</td>\n",
              "    </tr>\n",
              "    <tr>\n",
              "      <th>1</th>\n",
              "      <td>TransactionId_95109</td>\n",
              "      <td>NaN</td>\n",
              "    </tr>\n",
              "    <tr>\n",
              "      <th>2</th>\n",
              "      <td>TransactionId_47357</td>\n",
              "      <td>NaN</td>\n",
              "    </tr>\n",
              "    <tr>\n",
              "      <th>3</th>\n",
              "      <td>TransactionId_28185</td>\n",
              "      <td>NaN</td>\n",
              "    </tr>\n",
              "    <tr>\n",
              "      <th>4</th>\n",
              "      <td>TransactionId_22140</td>\n",
              "      <td>NaN</td>\n",
              "    </tr>\n",
              "  </tbody>\n",
              "</table>\n",
              "</div>"
            ],
            "text/plain": [
              "         TransactionId  FraudResult\n",
              "0  TransactionId_50600          NaN\n",
              "1  TransactionId_95109          NaN\n",
              "2  TransactionId_47357          NaN\n",
              "3  TransactionId_28185          NaN\n",
              "4  TransactionId_22140          NaN"
            ]
          },
          "metadata": {
            "tags": []
          },
          "execution_count": 99
        }
      ]
    },
    {
      "cell_type": "code",
      "metadata": {
        "id": "gdqWCDWH1-kU",
        "colab_type": "code",
        "colab": {
          "base_uri": "https://localhost:8080/",
          "height": 545
        },
        "outputId": "9702b1e0-e4a0-48b7-96b4-5970645d9ed1"
      },
      "source": [
        "xente_df"
      ],
      "execution_count": 100,
      "outputs": [
        {
          "output_type": "execute_result",
          "data": {
            "text/html": [
              "<div>\n",
              "<style scoped>\n",
              "    .dataframe tbody tr th:only-of-type {\n",
              "        vertical-align: middle;\n",
              "    }\n",
              "\n",
              "    .dataframe tbody tr th {\n",
              "        vertical-align: top;\n",
              "    }\n",
              "\n",
              "    .dataframe thead th {\n",
              "        text-align: right;\n",
              "    }\n",
              "</style>\n",
              "<table border=\"1\" class=\"dataframe\">\n",
              "  <thead>\n",
              "    <tr style=\"text-align: right;\">\n",
              "      <th></th>\n",
              "      <th>Column Name</th>\n",
              "      <th>Definition</th>\n",
              "    </tr>\n",
              "  </thead>\n",
              "  <tbody>\n",
              "    <tr>\n",
              "      <th>0</th>\n",
              "      <td>TransactionId</td>\n",
              "      <td>Unique �transaction identifier on platform</td>\n",
              "    </tr>\n",
              "    <tr>\n",
              "      <th>1</th>\n",
              "      <td>BatchId</td>\n",
              "      <td>Unique number assigned to a batch of transacti...</td>\n",
              "    </tr>\n",
              "    <tr>\n",
              "      <th>2</th>\n",
              "      <td>AccountId</td>\n",
              "      <td>Unique number identifying the customer on plat...</td>\n",
              "    </tr>\n",
              "    <tr>\n",
              "      <th>3</th>\n",
              "      <td>SubscriptionId</td>\n",
              "      <td>Unique number identifying the customer subscri...</td>\n",
              "    </tr>\n",
              "    <tr>\n",
              "      <th>4</th>\n",
              "      <td>CustomerId</td>\n",
              "      <td>Unique identifier attached to Account</td>\n",
              "    </tr>\n",
              "    <tr>\n",
              "      <th>5</th>\n",
              "      <td>CurrencyCode</td>\n",
              "      <td>Country currency</td>\n",
              "    </tr>\n",
              "    <tr>\n",
              "      <th>6</th>\n",
              "      <td>CountryCode</td>\n",
              "      <td>Numerical geographical code of country</td>\n",
              "    </tr>\n",
              "    <tr>\n",
              "      <th>7</th>\n",
              "      <td>ProviderId</td>\n",
              "      <td>Source provider of Item �bought.</td>\n",
              "    </tr>\n",
              "    <tr>\n",
              "      <th>8</th>\n",
              "      <td>ProductId</td>\n",
              "      <td>Item name being bought.</td>\n",
              "    </tr>\n",
              "    <tr>\n",
              "      <th>9</th>\n",
              "      <td>ProductCategory</td>\n",
              "      <td>ProductIds are organized into these broader pr...</td>\n",
              "    </tr>\n",
              "    <tr>\n",
              "      <th>10</th>\n",
              "      <td>ChannelId</td>\n",
              "      <td>Identifies if customer used web,Android, IOS, ...</td>\n",
              "    </tr>\n",
              "    <tr>\n",
              "      <th>11</th>\n",
              "      <td>Amount</td>\n",
              "      <td>Value of the transaction. Positive for debits ...</td>\n",
              "    </tr>\n",
              "    <tr>\n",
              "      <th>12</th>\n",
              "      <td>Value</td>\n",
              "      <td>Absolute value of the amount</td>\n",
              "    </tr>\n",
              "    <tr>\n",
              "      <th>13</th>\n",
              "      <td>TransactionStartTime</td>\n",
              "      <td>Transaction start time</td>\n",
              "    </tr>\n",
              "    <tr>\n",
              "      <th>14</th>\n",
              "      <td>PricingStrategy</td>\n",
              "      <td>Category of Xente's pricing structure for merc...</td>\n",
              "    </tr>\n",
              "    <tr>\n",
              "      <th>15</th>\n",
              "      <td>FraudResult</td>\n",
              "      <td>Fraud status of transaction 1 -yes or 0-No</td>\n",
              "    </tr>\n",
              "  </tbody>\n",
              "</table>\n",
              "</div>"
            ],
            "text/plain": [
              "             Column Name                                         Definition\n",
              "0          TransactionId         Unique �transaction identifier on platform\n",
              "1                BatchId  Unique number assigned to a batch of transacti...\n",
              "2              AccountId  Unique number identifying the customer on plat...\n",
              "3         SubscriptionId  Unique number identifying the customer subscri...\n",
              "4             CustomerId              Unique identifier attached to Account\n",
              "5           CurrencyCode                                   Country currency\n",
              "6            CountryCode             Numerical geographical code of country\n",
              "7             ProviderId                   Source provider of Item �bought.\n",
              "8              ProductId                            Item name being bought.\n",
              "9        ProductCategory  ProductIds are organized into these broader pr...\n",
              "10             ChannelId  Identifies if customer used web,Android, IOS, ...\n",
              "11                Amount  Value of the transaction. Positive for debits ...\n",
              "12                 Value                       Absolute value of the amount\n",
              "13  TransactionStartTime                             Transaction start time\n",
              "14       PricingStrategy  Category of Xente's pricing structure for merc...\n",
              "15           FraudResult         Fraud status of transaction 1 -yes or 0-No"
            ]
          },
          "metadata": {
            "tags": []
          },
          "execution_count": 100
        }
      ]
    },
    {
      "cell_type": "code",
      "metadata": {
        "id": "129bET63qrzH",
        "colab_type": "code",
        "colab": {
          "base_uri": "https://localhost:8080/",
          "height": 51
        },
        "outputId": "d047f0d3-e242-493b-cea5-b766a0cc312e"
      },
      "source": [
        "print(train_df.shape)\n",
        "print(test_df.shape)"
      ],
      "execution_count": 101,
      "outputs": [
        {
          "output_type": "stream",
          "text": [
            "(95662, 16)\n",
            "(78175, 15)\n"
          ],
          "name": "stdout"
        }
      ]
    },
    {
      "cell_type": "code",
      "metadata": {
        "id": "SBgkLja_gd7a",
        "colab_type": "code",
        "colab": {
          "base_uri": "https://localhost:8080/",
          "height": 224
        },
        "outputId": "f697f147-ef5e-4925-f663-a897b587b0e1"
      },
      "source": [
        "train_df.head()"
      ],
      "execution_count": 102,
      "outputs": [
        {
          "output_type": "execute_result",
          "data": {
            "text/html": [
              "<div>\n",
              "<style scoped>\n",
              "    .dataframe tbody tr th:only-of-type {\n",
              "        vertical-align: middle;\n",
              "    }\n",
              "\n",
              "    .dataframe tbody tr th {\n",
              "        vertical-align: top;\n",
              "    }\n",
              "\n",
              "    .dataframe thead th {\n",
              "        text-align: right;\n",
              "    }\n",
              "</style>\n",
              "<table border=\"1\" class=\"dataframe\">\n",
              "  <thead>\n",
              "    <tr style=\"text-align: right;\">\n",
              "      <th></th>\n",
              "      <th>TransactionId</th>\n",
              "      <th>BatchId</th>\n",
              "      <th>AccountId</th>\n",
              "      <th>SubscriptionId</th>\n",
              "      <th>CustomerId</th>\n",
              "      <th>CurrencyCode</th>\n",
              "      <th>CountryCode</th>\n",
              "      <th>ProviderId</th>\n",
              "      <th>ProductId</th>\n",
              "      <th>ProductCategory</th>\n",
              "      <th>ChannelId</th>\n",
              "      <th>Amount</th>\n",
              "      <th>Value</th>\n",
              "      <th>TransactionStartTime</th>\n",
              "      <th>PricingStrategy</th>\n",
              "      <th>FraudResult</th>\n",
              "    </tr>\n",
              "  </thead>\n",
              "  <tbody>\n",
              "    <tr>\n",
              "      <th>0</th>\n",
              "      <td>TransactionId_76871</td>\n",
              "      <td>BatchId_36123</td>\n",
              "      <td>AccountId_3957</td>\n",
              "      <td>SubscriptionId_887</td>\n",
              "      <td>CustomerId_4406</td>\n",
              "      <td>UGX</td>\n",
              "      <td>256</td>\n",
              "      <td>ProviderId_6</td>\n",
              "      <td>ProductId_10</td>\n",
              "      <td>airtime</td>\n",
              "      <td>ChannelId_3</td>\n",
              "      <td>1000.0</td>\n",
              "      <td>1000</td>\n",
              "      <td>2018-11-15T02:18:49Z</td>\n",
              "      <td>2</td>\n",
              "      <td>0</td>\n",
              "    </tr>\n",
              "    <tr>\n",
              "      <th>1</th>\n",
              "      <td>TransactionId_73770</td>\n",
              "      <td>BatchId_15642</td>\n",
              "      <td>AccountId_4841</td>\n",
              "      <td>SubscriptionId_3829</td>\n",
              "      <td>CustomerId_4406</td>\n",
              "      <td>UGX</td>\n",
              "      <td>256</td>\n",
              "      <td>ProviderId_4</td>\n",
              "      <td>ProductId_6</td>\n",
              "      <td>financial_services</td>\n",
              "      <td>ChannelId_2</td>\n",
              "      <td>-20.0</td>\n",
              "      <td>20</td>\n",
              "      <td>2018-11-15T02:19:08Z</td>\n",
              "      <td>2</td>\n",
              "      <td>0</td>\n",
              "    </tr>\n",
              "    <tr>\n",
              "      <th>2</th>\n",
              "      <td>TransactionId_26203</td>\n",
              "      <td>BatchId_53941</td>\n",
              "      <td>AccountId_4229</td>\n",
              "      <td>SubscriptionId_222</td>\n",
              "      <td>CustomerId_4683</td>\n",
              "      <td>UGX</td>\n",
              "      <td>256</td>\n",
              "      <td>ProviderId_6</td>\n",
              "      <td>ProductId_1</td>\n",
              "      <td>airtime</td>\n",
              "      <td>ChannelId_3</td>\n",
              "      <td>500.0</td>\n",
              "      <td>500</td>\n",
              "      <td>2018-11-15T02:44:21Z</td>\n",
              "      <td>2</td>\n",
              "      <td>0</td>\n",
              "    </tr>\n",
              "    <tr>\n",
              "      <th>3</th>\n",
              "      <td>TransactionId_380</td>\n",
              "      <td>BatchId_102363</td>\n",
              "      <td>AccountId_648</td>\n",
              "      <td>SubscriptionId_2185</td>\n",
              "      <td>CustomerId_988</td>\n",
              "      <td>UGX</td>\n",
              "      <td>256</td>\n",
              "      <td>ProviderId_1</td>\n",
              "      <td>ProductId_21</td>\n",
              "      <td>utility_bill</td>\n",
              "      <td>ChannelId_3</td>\n",
              "      <td>20000.0</td>\n",
              "      <td>21800</td>\n",
              "      <td>2018-11-15T03:32:55Z</td>\n",
              "      <td>2</td>\n",
              "      <td>0</td>\n",
              "    </tr>\n",
              "    <tr>\n",
              "      <th>4</th>\n",
              "      <td>TransactionId_28195</td>\n",
              "      <td>BatchId_38780</td>\n",
              "      <td>AccountId_4841</td>\n",
              "      <td>SubscriptionId_3829</td>\n",
              "      <td>CustomerId_988</td>\n",
              "      <td>UGX</td>\n",
              "      <td>256</td>\n",
              "      <td>ProviderId_4</td>\n",
              "      <td>ProductId_6</td>\n",
              "      <td>financial_services</td>\n",
              "      <td>ChannelId_2</td>\n",
              "      <td>-644.0</td>\n",
              "      <td>644</td>\n",
              "      <td>2018-11-15T03:34:21Z</td>\n",
              "      <td>2</td>\n",
              "      <td>0</td>\n",
              "    </tr>\n",
              "  </tbody>\n",
              "</table>\n",
              "</div>"
            ],
            "text/plain": [
              "         TransactionId         BatchId  ... PricingStrategy FraudResult\n",
              "0  TransactionId_76871   BatchId_36123  ...               2           0\n",
              "1  TransactionId_73770   BatchId_15642  ...               2           0\n",
              "2  TransactionId_26203   BatchId_53941  ...               2           0\n",
              "3    TransactionId_380  BatchId_102363  ...               2           0\n",
              "4  TransactionId_28195   BatchId_38780  ...               2           0\n",
              "\n",
              "[5 rows x 16 columns]"
            ]
          },
          "metadata": {
            "tags": []
          },
          "execution_count": 102
        }
      ]
    },
    {
      "cell_type": "code",
      "metadata": {
        "id": "si_IKxtbgd-C",
        "colab_type": "code",
        "colab": {
          "base_uri": "https://localhost:8080/",
          "height": 224
        },
        "outputId": "c5ab8482-e744-4e92-c4b0-121117970f55"
      },
      "source": [
        "test_df.head()"
      ],
      "execution_count": 103,
      "outputs": [
        {
          "output_type": "execute_result",
          "data": {
            "text/html": [
              "<div>\n",
              "<style scoped>\n",
              "    .dataframe tbody tr th:only-of-type {\n",
              "        vertical-align: middle;\n",
              "    }\n",
              "\n",
              "    .dataframe tbody tr th {\n",
              "        vertical-align: top;\n",
              "    }\n",
              "\n",
              "    .dataframe thead th {\n",
              "        text-align: right;\n",
              "    }\n",
              "</style>\n",
              "<table border=\"1\" class=\"dataframe\">\n",
              "  <thead>\n",
              "    <tr style=\"text-align: right;\">\n",
              "      <th></th>\n",
              "      <th>TransactionId</th>\n",
              "      <th>BatchId</th>\n",
              "      <th>AccountId</th>\n",
              "      <th>SubscriptionId</th>\n",
              "      <th>CustomerId</th>\n",
              "      <th>CurrencyCode</th>\n",
              "      <th>CountryCode</th>\n",
              "      <th>ProviderId</th>\n",
              "      <th>ProductId</th>\n",
              "      <th>ProductCategory</th>\n",
              "      <th>ChannelId</th>\n",
              "      <th>Amount</th>\n",
              "      <th>Value</th>\n",
              "      <th>TransactionStartTime</th>\n",
              "      <th>PricingStrategy</th>\n",
              "    </tr>\n",
              "  </thead>\n",
              "  <tbody>\n",
              "    <tr>\n",
              "      <th>0</th>\n",
              "      <td>TransactionId_50600</td>\n",
              "      <td>BatchId_35028</td>\n",
              "      <td>AccountId_2441</td>\n",
              "      <td>SubscriptionId_4426</td>\n",
              "      <td>CustomerId_2857</td>\n",
              "      <td>UGX</td>\n",
              "      <td>256</td>\n",
              "      <td>ProviderId_5</td>\n",
              "      <td>ProductId_3</td>\n",
              "      <td>airtime</td>\n",
              "      <td>ChannelId_3</td>\n",
              "      <td>1000.0</td>\n",
              "      <td>1000.0</td>\n",
              "      <td>2019-02-13T10:01:40Z</td>\n",
              "      <td>4.0</td>\n",
              "    </tr>\n",
              "    <tr>\n",
              "      <th>1</th>\n",
              "      <td>TransactionId_95109</td>\n",
              "      <td>BatchId_45139</td>\n",
              "      <td>AccountId_3439</td>\n",
              "      <td>SubscriptionId_2643</td>\n",
              "      <td>CustomerId_3874</td>\n",
              "      <td>UGX</td>\n",
              "      <td>256</td>\n",
              "      <td>ProviderId_5</td>\n",
              "      <td>ProductId_15</td>\n",
              "      <td>financial_services</td>\n",
              "      <td>ChannelId_3</td>\n",
              "      <td>2000.0</td>\n",
              "      <td>2000.0</td>\n",
              "      <td>2019-02-13T10:02:12Z</td>\n",
              "      <td>2.0</td>\n",
              "    </tr>\n",
              "    <tr>\n",
              "      <th>2</th>\n",
              "      <td>TransactionId_47357</td>\n",
              "      <td>BatchId_74887</td>\n",
              "      <td>AccountId_4841</td>\n",
              "      <td>SubscriptionId_3829</td>\n",
              "      <td>CustomerId_2857</td>\n",
              "      <td>UGX</td>\n",
              "      <td>256</td>\n",
              "      <td>ProviderId_4</td>\n",
              "      <td>ProductId_6</td>\n",
              "      <td>financial_services</td>\n",
              "      <td>ChannelId_2</td>\n",
              "      <td>-50.0</td>\n",
              "      <td>50.0</td>\n",
              "      <td>2019-02-13T10:02:30Z</td>\n",
              "      <td>2.0</td>\n",
              "    </tr>\n",
              "    <tr>\n",
              "      <th>3</th>\n",
              "      <td>TransactionId_28185</td>\n",
              "      <td>BatchId_11025</td>\n",
              "      <td>AccountId_2685</td>\n",
              "      <td>SubscriptionId_4626</td>\n",
              "      <td>CustomerId_3105</td>\n",
              "      <td>UGX</td>\n",
              "      <td>256</td>\n",
              "      <td>ProviderId_5</td>\n",
              "      <td>ProductId_10</td>\n",
              "      <td>airtime</td>\n",
              "      <td>ChannelId_3</td>\n",
              "      <td>3000.0</td>\n",
              "      <td>3000.0</td>\n",
              "      <td>2019-02-13T10:02:38Z</td>\n",
              "      <td>4.0</td>\n",
              "    </tr>\n",
              "    <tr>\n",
              "      <th>4</th>\n",
              "      <td>TransactionId_22140</td>\n",
              "      <td>BatchId_29804</td>\n",
              "      <td>AccountId_4841</td>\n",
              "      <td>SubscriptionId_3829</td>\n",
              "      <td>CustomerId_3105</td>\n",
              "      <td>UGX</td>\n",
              "      <td>256</td>\n",
              "      <td>ProviderId_4</td>\n",
              "      <td>ProductId_6</td>\n",
              "      <td>financial_services</td>\n",
              "      <td>ChannelId_2</td>\n",
              "      <td>-60.0</td>\n",
              "      <td>60.0</td>\n",
              "      <td>2019-02-13T10:02:58Z</td>\n",
              "      <td>2.0</td>\n",
              "    </tr>\n",
              "  </tbody>\n",
              "</table>\n",
              "</div>"
            ],
            "text/plain": [
              "         TransactionId        BatchId  ...  TransactionStartTime PricingStrategy\n",
              "0  TransactionId_50600  BatchId_35028  ...  2019-02-13T10:01:40Z             4.0\n",
              "1  TransactionId_95109  BatchId_45139  ...  2019-02-13T10:02:12Z             2.0\n",
              "2  TransactionId_47357  BatchId_74887  ...  2019-02-13T10:02:30Z             2.0\n",
              "3  TransactionId_28185  BatchId_11025  ...  2019-02-13T10:02:38Z             4.0\n",
              "4  TransactionId_22140  BatchId_29804  ...  2019-02-13T10:02:58Z             2.0\n",
              "\n",
              "[5 rows x 15 columns]"
            ]
          },
          "metadata": {
            "tags": []
          },
          "execution_count": 103
        }
      ]
    },
    {
      "cell_type": "markdown",
      "metadata": {
        "id": "kcEoy1bVt2NE",
        "colab_type": "text"
      },
      "source": [
        "## **Preprocessing**\n"
      ]
    },
    {
      "cell_type": "code",
      "metadata": {
        "id": "4LaeyMfsC-SQ",
        "colab_type": "code",
        "colab": {
          "base_uri": "https://localhost:8080/",
          "height": 68
        },
        "outputId": "bab0739d-ed03-4dfe-a1ab-5a9d47ed9ec0"
      },
      "source": [
        "train_df['FraudResult'].value_counts()"
      ],
      "execution_count": 104,
      "outputs": [
        {
          "output_type": "execute_result",
          "data": {
            "text/plain": [
              "0    95469\n",
              "1      193\n",
              "Name: FraudResult, dtype: int64"
            ]
          },
          "metadata": {
            "tags": []
          },
          "execution_count": 104
        }
      ]
    },
    {
      "cell_type": "code",
      "metadata": {
        "id": "VglEVy5wgeDa",
        "colab_type": "code",
        "colab": {
          "base_uri": "https://localhost:8080/",
          "height": 34
        },
        "outputId": "03a36638-f580-4c9f-caa8-15d6646fbe3d"
      },
      "source": [
        "train_df['FraudResult'].unique()"
      ],
      "execution_count": 105,
      "outputs": [
        {
          "output_type": "execute_result",
          "data": {
            "text/plain": [
              "array([0, 1])"
            ]
          },
          "metadata": {
            "tags": []
          },
          "execution_count": 105
        }
      ]
    },
    {
      "cell_type": "code",
      "metadata": {
        "id": "CW2mNzG0rtVm",
        "colab_type": "code",
        "colab": {
          "base_uri": "https://localhost:8080/",
          "height": 306
        },
        "outputId": "c0ad5722-f116-45d2-ec0b-054c61ef2b2d"
      },
      "source": [
        "train_df.isnull().sum()"
      ],
      "execution_count": 106,
      "outputs": [
        {
          "output_type": "execute_result",
          "data": {
            "text/plain": [
              "TransactionId           0\n",
              "BatchId                 0\n",
              "AccountId               0\n",
              "SubscriptionId          0\n",
              "CustomerId              0\n",
              "CurrencyCode            0\n",
              "CountryCode             0\n",
              "ProviderId              0\n",
              "ProductId               0\n",
              "ProductCategory         0\n",
              "ChannelId               0\n",
              "Amount                  0\n",
              "Value                   0\n",
              "TransactionStartTime    0\n",
              "PricingStrategy         0\n",
              "FraudResult             0\n",
              "dtype: int64"
            ]
          },
          "metadata": {
            "tags": []
          },
          "execution_count": 106
        }
      ]
    },
    {
      "cell_type": "code",
      "metadata": {
        "id": "wKsXaMygr3iO",
        "colab_type": "code",
        "colab": {
          "base_uri": "https://localhost:8080/",
          "height": 289
        },
        "outputId": "fe8547bb-9312-4990-eacd-b9c62b9684c2"
      },
      "source": [
        "test_df.isnull().sum()"
      ],
      "execution_count": 107,
      "outputs": [
        {
          "output_type": "execute_result",
          "data": {
            "text/plain": [
              "TransactionId           0\n",
              "BatchId                 0\n",
              "AccountId               0\n",
              "SubscriptionId          0\n",
              "CustomerId              0\n",
              "CurrencyCode            0\n",
              "CountryCode             1\n",
              "ProviderId              1\n",
              "ProductId               1\n",
              "ProductCategory         2\n",
              "ChannelId               3\n",
              "Amount                  4\n",
              "Value                   6\n",
              "TransactionStartTime    6\n",
              "PricingStrategy         6\n",
              "dtype: int64"
            ]
          },
          "metadata": {
            "tags": []
          },
          "execution_count": 107
        }
      ]
    },
    {
      "cell_type": "code",
      "metadata": {
        "id": "MfX5OKWasguo",
        "colab_type": "code",
        "colab": {}
      },
      "source": [
        "test_df['CountryCode'].fillna(method='backfill', inplace=True)\n",
        "test_df['ProviderId'].fillna(method='backfill', inplace=True)\n",
        "test_df['ProductId'].fillna(method='backfill', inplace=True)\n",
        "test_df['ProductCategory'].fillna(method='backfill', inplace=True)\n",
        "test_df['ChannelId'].fillna(method='backfill', inplace=True)\n",
        "test_df['Amount'].fillna(method='backfill', inplace=True)\n",
        "test_df['Value'].fillna(method='backfill', inplace=True)\n",
        "test_df['TransactionStartTime'].fillna(method='backfill', inplace=True)\n",
        "test_df['PricingStrategy'].fillna(method='backfill', inplace=True)"
      ],
      "execution_count": 0,
      "outputs": []
    },
    {
      "cell_type": "code",
      "metadata": {
        "id": "jBmokoc2tIUb",
        "colab_type": "code",
        "colab": {
          "base_uri": "https://localhost:8080/",
          "height": 289
        },
        "outputId": "64603981-54f1-403b-da60-016370ae166a"
      },
      "source": [
        "test_df.isnull().sum()"
      ],
      "execution_count": 109,
      "outputs": [
        {
          "output_type": "execute_result",
          "data": {
            "text/plain": [
              "TransactionId           0\n",
              "BatchId                 0\n",
              "AccountId               0\n",
              "SubscriptionId          0\n",
              "CustomerId              0\n",
              "CurrencyCode            0\n",
              "CountryCode             0\n",
              "ProviderId              0\n",
              "ProductId               0\n",
              "ProductCategory         0\n",
              "ChannelId               0\n",
              "Amount                  0\n",
              "Value                   0\n",
              "TransactionStartTime    0\n",
              "PricingStrategy         0\n",
              "dtype: int64"
            ]
          },
          "metadata": {
            "tags": []
          },
          "execution_count": 109
        }
      ]
    },
    {
      "cell_type": "markdown",
      "metadata": {
        "id": "FU_wrFKJtXnN",
        "colab_type": "text"
      },
      "source": [
        "Creating Sample set from data"
      ]
    },
    {
      "cell_type": "code",
      "metadata": {
        "id": "YeZhQ4W5geAq",
        "colab_type": "code",
        "colab": {}
      },
      "source": [
        "trainSample_df = train_df.sample(n=9500, random_state=42)\n",
        "testSample_df = test_df.sample(n=7800, random_state=42)"
      ],
      "execution_count": 0,
      "outputs": []
    },
    {
      "cell_type": "code",
      "metadata": {
        "id": "CpMKgSy-wBCQ",
        "colab_type": "code",
        "colab": {}
      },
      "source": [
        "totalSample_df = pd.concat([trainSample_df, testSample_df], axis=0, sort=True)\n",
        "total_df = pd.concat([train_df, test_df], axis=0, sort=True)"
      ],
      "execution_count": 0,
      "outputs": []
    },
    {
      "cell_type": "code",
      "metadata": {
        "id": "ExUKAd6GFK9T",
        "colab_type": "code",
        "colab": {}
      },
      "source": [
        ""
      ],
      "execution_count": 0,
      "outputs": []
    },
    {
      "cell_type": "code",
      "metadata": {
        "id": "V2Q4wIejwHwn",
        "colab_type": "code",
        "colab": {
          "base_uri": "https://localhost:8080/",
          "height": 102
        },
        "outputId": "b6273d7f-2f65-423d-e383-3992cca8ad97"
      },
      "source": [
        "# totalSample_df.columns\n",
        "total_df.columns"
      ],
      "execution_count": 112,
      "outputs": [
        {
          "output_type": "execute_result",
          "data": {
            "text/plain": [
              "Index(['AccountId', 'Amount', 'BatchId', 'ChannelId', 'CountryCode',\n",
              "       'CurrencyCode', 'CustomerId', 'FraudResult', 'PricingStrategy',\n",
              "       'ProductCategory', 'ProductId', 'ProviderId', 'SubscriptionId',\n",
              "       'TransactionId', 'TransactionStartTime', 'Value'],\n",
              "      dtype='object')"
            ]
          },
          "metadata": {
            "tags": []
          },
          "execution_count": 112
        }
      ]
    },
    {
      "cell_type": "code",
      "metadata": {
        "id": "r5Z7G978tzyU",
        "colab_type": "code",
        "colab": {
          "base_uri": "https://localhost:8080/",
          "height": 545
        },
        "outputId": "94064408-9e1f-46a3-b249-e27553a8d8f9"
      },
      "source": [
        "def display_all(df):\n",
        "    with pd.option_context(\"display.max_rows\", 500, \"display.max_columns\", 500): \n",
        "        display(df)\n",
        "\n",
        "        \n",
        "display_all(total_df.describe(include='all').T)"
      ],
      "execution_count": 113,
      "outputs": [
        {
          "output_type": "display_data",
          "data": {
            "text/html": [
              "<div>\n",
              "<style scoped>\n",
              "    .dataframe tbody tr th:only-of-type {\n",
              "        vertical-align: middle;\n",
              "    }\n",
              "\n",
              "    .dataframe tbody tr th {\n",
              "        vertical-align: top;\n",
              "    }\n",
              "\n",
              "    .dataframe thead th {\n",
              "        text-align: right;\n",
              "    }\n",
              "</style>\n",
              "<table border=\"1\" class=\"dataframe\">\n",
              "  <thead>\n",
              "    <tr style=\"text-align: right;\">\n",
              "      <th></th>\n",
              "      <th>count</th>\n",
              "      <th>unique</th>\n",
              "      <th>top</th>\n",
              "      <th>freq</th>\n",
              "      <th>mean</th>\n",
              "      <th>std</th>\n",
              "      <th>min</th>\n",
              "      <th>25%</th>\n",
              "      <th>50%</th>\n",
              "      <th>75%</th>\n",
              "      <th>max</th>\n",
              "    </tr>\n",
              "  </thead>\n",
              "  <tbody>\n",
              "    <tr>\n",
              "      <th>AccountId</th>\n",
              "      <td>173837</td>\n",
              "      <td>4844</td>\n",
              "      <td>AccountId_4841</td>\n",
              "      <td>52529</td>\n",
              "      <td>NaN</td>\n",
              "      <td>NaN</td>\n",
              "      <td>NaN</td>\n",
              "      <td>NaN</td>\n",
              "      <td>NaN</td>\n",
              "      <td>NaN</td>\n",
              "      <td>NaN</td>\n",
              "    </tr>\n",
              "    <tr>\n",
              "      <th>Amount</th>\n",
              "      <td>173837</td>\n",
              "      <td>NaN</td>\n",
              "      <td>NaN</td>\n",
              "      <td>NaN</td>\n",
              "      <td>5792.28</td>\n",
              "      <td>111365</td>\n",
              "      <td>-2.5e+06</td>\n",
              "      <td>-50</td>\n",
              "      <td>1000</td>\n",
              "      <td>3800</td>\n",
              "      <td>9.88e+06</td>\n",
              "    </tr>\n",
              "    <tr>\n",
              "      <th>BatchId</th>\n",
              "      <td>173837</td>\n",
              "      <td>139495</td>\n",
              "      <td>BatchId_67019</td>\n",
              "      <td>28</td>\n",
              "      <td>NaN</td>\n",
              "      <td>NaN</td>\n",
              "      <td>NaN</td>\n",
              "      <td>NaN</td>\n",
              "      <td>NaN</td>\n",
              "      <td>NaN</td>\n",
              "      <td>NaN</td>\n",
              "    </tr>\n",
              "    <tr>\n",
              "      <th>ChannelId</th>\n",
              "      <td>173837</td>\n",
              "      <td>7</td>\n",
              "      <td>ChannelId_3</td>\n",
              "      <td>125351</td>\n",
              "      <td>NaN</td>\n",
              "      <td>NaN</td>\n",
              "      <td>NaN</td>\n",
              "      <td>NaN</td>\n",
              "      <td>NaN</td>\n",
              "      <td>NaN</td>\n",
              "      <td>NaN</td>\n",
              "    </tr>\n",
              "    <tr>\n",
              "      <th>CountryCode</th>\n",
              "      <td>173837</td>\n",
              "      <td>6</td>\n",
              "      <td>256</td>\n",
              "      <td>108301</td>\n",
              "      <td>NaN</td>\n",
              "      <td>NaN</td>\n",
              "      <td>NaN</td>\n",
              "      <td>NaN</td>\n",
              "      <td>NaN</td>\n",
              "      <td>NaN</td>\n",
              "      <td>NaN</td>\n",
              "    </tr>\n",
              "    <tr>\n",
              "      <th>CurrencyCode</th>\n",
              "      <td>173837</td>\n",
              "      <td>6</td>\n",
              "      <td>UGX</td>\n",
              "      <td>173831</td>\n",
              "      <td>NaN</td>\n",
              "      <td>NaN</td>\n",
              "      <td>NaN</td>\n",
              "      <td>NaN</td>\n",
              "      <td>NaN</td>\n",
              "      <td>NaN</td>\n",
              "      <td>NaN</td>\n",
              "    </tr>\n",
              "    <tr>\n",
              "      <th>CustomerId</th>\n",
              "      <td>173837</td>\n",
              "      <td>7484</td>\n",
              "      <td>CustomerId_7343</td>\n",
              "      <td>4091</td>\n",
              "      <td>NaN</td>\n",
              "      <td>NaN</td>\n",
              "      <td>NaN</td>\n",
              "      <td>NaN</td>\n",
              "      <td>NaN</td>\n",
              "      <td>NaN</td>\n",
              "      <td>NaN</td>\n",
              "    </tr>\n",
              "    <tr>\n",
              "      <th>FraudResult</th>\n",
              "      <td>95662</td>\n",
              "      <td>NaN</td>\n",
              "      <td>NaN</td>\n",
              "      <td>NaN</td>\n",
              "      <td>0.00201752</td>\n",
              "      <td>0.0448717</td>\n",
              "      <td>0</td>\n",
              "      <td>0</td>\n",
              "      <td>0</td>\n",
              "      <td>0</td>\n",
              "      <td>1</td>\n",
              "    </tr>\n",
              "    <tr>\n",
              "      <th>PricingStrategy</th>\n",
              "      <td>173837</td>\n",
              "      <td>NaN</td>\n",
              "      <td>NaN</td>\n",
              "      <td>NaN</td>\n",
              "      <td>2.26249</td>\n",
              "      <td>0.742391</td>\n",
              "      <td>0</td>\n",
              "      <td>2</td>\n",
              "      <td>2</td>\n",
              "      <td>2</td>\n",
              "      <td>4</td>\n",
              "    </tr>\n",
              "    <tr>\n",
              "      <th>ProductCategory</th>\n",
              "      <td>173837</td>\n",
              "      <td>13</td>\n",
              "      <td>financial_services</td>\n",
              "      <td>82684</td>\n",
              "      <td>NaN</td>\n",
              "      <td>NaN</td>\n",
              "      <td>NaN</td>\n",
              "      <td>NaN</td>\n",
              "      <td>NaN</td>\n",
              "      <td>NaN</td>\n",
              "      <td>NaN</td>\n",
              "    </tr>\n",
              "    <tr>\n",
              "      <th>ProductId</th>\n",
              "      <td>173837</td>\n",
              "      <td>31</td>\n",
              "      <td>ProductId_6</td>\n",
              "      <td>58326</td>\n",
              "      <td>NaN</td>\n",
              "      <td>NaN</td>\n",
              "      <td>NaN</td>\n",
              "      <td>NaN</td>\n",
              "      <td>NaN</td>\n",
              "      <td>NaN</td>\n",
              "      <td>NaN</td>\n",
              "    </tr>\n",
              "    <tr>\n",
              "      <th>ProviderId</th>\n",
              "      <td>173837</td>\n",
              "      <td>10</td>\n",
              "      <td>ProviderId_4</td>\n",
              "      <td>69683</td>\n",
              "      <td>NaN</td>\n",
              "      <td>NaN</td>\n",
              "      <td>NaN</td>\n",
              "      <td>NaN</td>\n",
              "      <td>NaN</td>\n",
              "      <td>NaN</td>\n",
              "      <td>NaN</td>\n",
              "    </tr>\n",
              "    <tr>\n",
              "      <th>SubscriptionId</th>\n",
              "      <td>173837</td>\n",
              "      <td>4840</td>\n",
              "      <td>SubscriptionId_3829</td>\n",
              "      <td>58354</td>\n",
              "      <td>NaN</td>\n",
              "      <td>NaN</td>\n",
              "      <td>NaN</td>\n",
              "      <td>NaN</td>\n",
              "      <td>NaN</td>\n",
              "      <td>NaN</td>\n",
              "      <td>NaN</td>\n",
              "    </tr>\n",
              "    <tr>\n",
              "      <th>TransactionId</th>\n",
              "      <td>173837</td>\n",
              "      <td>140683</td>\n",
              "      <td>TransactionId_5761</td>\n",
              "      <td>2</td>\n",
              "      <td>NaN</td>\n",
              "      <td>NaN</td>\n",
              "      <td>NaN</td>\n",
              "      <td>NaN</td>\n",
              "      <td>NaN</td>\n",
              "      <td>NaN</td>\n",
              "      <td>NaN</td>\n",
              "    </tr>\n",
              "    <tr>\n",
              "      <th>TransactionStartTime</th>\n",
              "      <td>173837</td>\n",
              "      <td>138570</td>\n",
              "      <td>2018-12-24T16:30:13Z</td>\n",
              "      <td>17</td>\n",
              "      <td>NaN</td>\n",
              "      <td>NaN</td>\n",
              "      <td>NaN</td>\n",
              "      <td>NaN</td>\n",
              "      <td>NaN</td>\n",
              "      <td>NaN</td>\n",
              "      <td>NaN</td>\n",
              "    </tr>\n",
              "    <tr>\n",
              "      <th>Value</th>\n",
              "      <td>173837</td>\n",
              "      <td>NaN</td>\n",
              "      <td>NaN</td>\n",
              "      <td>NaN</td>\n",
              "      <td>10084.4</td>\n",
              "      <td>111085</td>\n",
              "      <td>2</td>\n",
              "      <td>496</td>\n",
              "      <td>1000</td>\n",
              "      <td>5000</td>\n",
              "      <td>9.88e+06</td>\n",
              "    </tr>\n",
              "  </tbody>\n",
              "</table>\n",
              "</div>"
            ],
            "text/plain": [
              "                       count  unique                   top    freq  \\\n",
              "AccountId             173837    4844        AccountId_4841   52529   \n",
              "Amount                173837     NaN                   NaN     NaN   \n",
              "BatchId               173837  139495         BatchId_67019      28   \n",
              "ChannelId             173837       7           ChannelId_3  125351   \n",
              "CountryCode           173837       6                   256  108301   \n",
              "CurrencyCode          173837       6                   UGX  173831   \n",
              "CustomerId            173837    7484       CustomerId_7343    4091   \n",
              "FraudResult            95662     NaN                   NaN     NaN   \n",
              "PricingStrategy       173837     NaN                   NaN     NaN   \n",
              "ProductCategory       173837      13    financial_services   82684   \n",
              "ProductId             173837      31           ProductId_6   58326   \n",
              "ProviderId            173837      10          ProviderId_4   69683   \n",
              "SubscriptionId        173837    4840   SubscriptionId_3829   58354   \n",
              "TransactionId         173837  140683    TransactionId_5761       2   \n",
              "TransactionStartTime  173837  138570  2018-12-24T16:30:13Z      17   \n",
              "Value                 173837     NaN                   NaN     NaN   \n",
              "\n",
              "                            mean        std      min  25%   50%   75%  \\\n",
              "AccountId                    NaN        NaN      NaN  NaN   NaN   NaN   \n",
              "Amount                   5792.28     111365 -2.5e+06  -50  1000  3800   \n",
              "BatchId                      NaN        NaN      NaN  NaN   NaN   NaN   \n",
              "ChannelId                    NaN        NaN      NaN  NaN   NaN   NaN   \n",
              "CountryCode                  NaN        NaN      NaN  NaN   NaN   NaN   \n",
              "CurrencyCode                 NaN        NaN      NaN  NaN   NaN   NaN   \n",
              "CustomerId                   NaN        NaN      NaN  NaN   NaN   NaN   \n",
              "FraudResult           0.00201752  0.0448717        0    0     0     0   \n",
              "PricingStrategy          2.26249   0.742391        0    2     2     2   \n",
              "ProductCategory              NaN        NaN      NaN  NaN   NaN   NaN   \n",
              "ProductId                    NaN        NaN      NaN  NaN   NaN   NaN   \n",
              "ProviderId                   NaN        NaN      NaN  NaN   NaN   NaN   \n",
              "SubscriptionId               NaN        NaN      NaN  NaN   NaN   NaN   \n",
              "TransactionId                NaN        NaN      NaN  NaN   NaN   NaN   \n",
              "TransactionStartTime         NaN        NaN      NaN  NaN   NaN   NaN   \n",
              "Value                    10084.4     111085        2  496  1000  5000   \n",
              "\n",
              "                           max  \n",
              "AccountId                  NaN  \n",
              "Amount                9.88e+06  \n",
              "BatchId                    NaN  \n",
              "ChannelId                  NaN  \n",
              "CountryCode                NaN  \n",
              "CurrencyCode               NaN  \n",
              "CustomerId                 NaN  \n",
              "FraudResult                  1  \n",
              "PricingStrategy              4  \n",
              "ProductCategory            NaN  \n",
              "ProductId                  NaN  \n",
              "ProviderId                 NaN  \n",
              "SubscriptionId             NaN  \n",
              "TransactionId              NaN  \n",
              "TransactionStartTime       NaN  \n",
              "Value                 9.88e+06  "
            ]
          },
          "metadata": {
            "tags": []
          }
        }
      ]
    },
    {
      "cell_type": "markdown",
      "metadata": {
        "id": "o7f936VeuknR",
        "colab_type": "text"
      },
      "source": [
        "### Replacing Erroneous Data Values"
      ]
    },
    {
      "cell_type": "markdown",
      "metadata": {
        "id": "zo5amQEIHEE2",
        "colab_type": "text"
      },
      "source": [
        "**CountryCode**"
      ]
    },
    {
      "cell_type": "code",
      "metadata": {
        "id": "nGRiXFmVtz4U",
        "colab_type": "code",
        "colab": {
          "base_uri": "https://localhost:8080/",
          "height": 136
        },
        "outputId": "04acf3ae-c7ef-436d-f1c8-044a65fddcaf"
      },
      "source": [
        "total_df['CountryCode'].value_counts()"
      ],
      "execution_count": 114,
      "outputs": [
        {
          "output_type": "execute_result",
          "data": {
            "text/plain": [
              "256                   108301\n",
              "256                    65531\n",
              "financial_services         2\n",
              "16000                      1\n",
              "ChannelId_3                1\n",
              "-250                       1\n",
              "Name: CountryCode, dtype: int64"
            ]
          },
          "metadata": {
            "tags": []
          },
          "execution_count": 114
        }
      ]
    },
    {
      "cell_type": "code",
      "metadata": {
        "id": "bL8e8RcqF1Na",
        "colab_type": "code",
        "colab": {}
      },
      "source": [
        "total_df['CountryCode'] = '256'"
      ],
      "execution_count": 0,
      "outputs": []
    },
    {
      "cell_type": "code",
      "metadata": {
        "id": "3FhjEQutF7Bd",
        "colab_type": "code",
        "colab": {
          "base_uri": "https://localhost:8080/",
          "height": 51
        },
        "outputId": "1f7e7b29-6bf7-4853-8c00-bf5c85ee0b21"
      },
      "source": [
        "total_df['CountryCode'].value_counts()"
      ],
      "execution_count": 116,
      "outputs": [
        {
          "output_type": "execute_result",
          "data": {
            "text/plain": [
              "256    173837\n",
              "Name: CountryCode, dtype: int64"
            ]
          },
          "metadata": {
            "tags": []
          },
          "execution_count": 116
        }
      ]
    },
    {
      "cell_type": "markdown",
      "metadata": {
        "id": "dtWYWaAkHIjJ",
        "colab_type": "text"
      },
      "source": [
        "**CurrencyCode**"
      ]
    },
    {
      "cell_type": "code",
      "metadata": {
        "id": "Ja0dLiB9FkPa",
        "colab_type": "code",
        "colab": {
          "base_uri": "https://localhost:8080/",
          "height": 136
        },
        "outputId": "70ffab05-ed88-42b8-8386-01abed266463"
      },
      "source": [
        "total_df['CurrencyCode'].value_counts()"
      ],
      "execution_count": 117,
      "outputs": [
        {
          "output_type": "execute_result",
          "data": {
            "text/plain": [
              "UGX                   173831\n",
              "ProductId_6                2\n",
              "16000                      1\n",
              "2                          1\n",
              "financial_services         1\n",
              "ChannelId_3                1\n",
              "Name: CurrencyCode, dtype: int64"
            ]
          },
          "metadata": {
            "tags": []
          },
          "execution_count": 117
        }
      ]
    },
    {
      "cell_type": "code",
      "metadata": {
        "id": "D3E_bWbhF-nG",
        "colab_type": "code",
        "colab": {}
      },
      "source": [
        "total_df['CurrencyCode'] = 'UGX'"
      ],
      "execution_count": 0,
      "outputs": []
    },
    {
      "cell_type": "code",
      "metadata": {
        "id": "clk51VreF-p3",
        "colab_type": "code",
        "colab": {
          "base_uri": "https://localhost:8080/",
          "height": 51
        },
        "outputId": "83fd4ff1-b7a5-450b-8fa5-12ec696c8e0a"
      },
      "source": [
        "total_df['CurrencyCode'].value_counts()"
      ],
      "execution_count": 119,
      "outputs": [
        {
          "output_type": "execute_result",
          "data": {
            "text/plain": [
              "UGX    173837\n",
              "Name: CurrencyCode, dtype: int64"
            ]
          },
          "metadata": {
            "tags": []
          },
          "execution_count": 119
        }
      ]
    },
    {
      "cell_type": "markdown",
      "metadata": {
        "id": "ZBoQJGV2HLwT",
        "colab_type": "text"
      },
      "source": [
        "**ProductCategory**"
      ]
    },
    {
      "cell_type": "code",
      "metadata": {
        "id": "QcaWV1NTGJVV",
        "colab_type": "code",
        "colab": {
          "base_uri": "https://localhost:8080/",
          "height": 255
        },
        "outputId": "b5de7f7e-c772-4c8b-bd22-012fc6a7c90b"
      },
      "source": [
        "total_df['ProductCategory'].value_counts()"
      ],
      "execution_count": 120,
      "outputs": [
        {
          "output_type": "execute_result",
          "data": {
            "text/plain": [
              "financial_services      82684\n",
              "airtime                 81779\n",
              "data_bundles             3235\n",
              "utility_bill             3206\n",
              "tv                       2067\n",
              "movies                    299\n",
              "retail                    291\n",
              "ticket                    239\n",
              "transport                  31\n",
              "50                          2\n",
              "other                       2\n",
              "2019-02-15T17:29:44Z        1\n",
              "2                           1\n",
              "Name: ProductCategory, dtype: int64"
            ]
          },
          "metadata": {
            "tags": []
          },
          "execution_count": 120
        }
      ]
    },
    {
      "cell_type": "code",
      "metadata": {
        "id": "5wj2d5P6HcmH",
        "colab_type": "code",
        "colab": {}
      },
      "source": [
        "total_df[total_df['ProductCategory'] == '50']['ProductCategory'] = 'financial_services'\n",
        "total_df[total_df['ProductCategory'] == '2']['ProductCategory']  = 'financial_services'\n",
        "total_df[total_df['ProductCategory'] == '2019-02-15T17:29:44Z']['ProductCategory']  = 'airtime'"
      ],
      "execution_count": 0,
      "outputs": []
    },
    {
      "cell_type": "code",
      "metadata": {
        "id": "huSJimAZHcpa",
        "colab_type": "code",
        "colab": {
          "base_uri": "https://localhost:8080/",
          "height": 255
        },
        "outputId": "720298ff-d5c7-436e-ce5b-477d2dca0bf3"
      },
      "source": [
        "total_df['ProductCategory'].value_counts()"
      ],
      "execution_count": 122,
      "outputs": [
        {
          "output_type": "execute_result",
          "data": {
            "text/plain": [
              "financial_services      82684\n",
              "airtime                 81779\n",
              "data_bundles             3235\n",
              "utility_bill             3206\n",
              "tv                       2067\n",
              "movies                    299\n",
              "retail                    291\n",
              "ticket                    239\n",
              "transport                  31\n",
              "50                          2\n",
              "other                       2\n",
              "2019-02-15T17:29:44Z        1\n",
              "2                           1\n",
              "Name: ProductCategory, dtype: int64"
            ]
          },
          "metadata": {
            "tags": []
          },
          "execution_count": 122
        }
      ]
    },
    {
      "cell_type": "markdown",
      "metadata": {
        "id": "05A-4xiKHOxQ",
        "colab_type": "text"
      },
      "source": [
        "**ProviderId**"
      ]
    },
    {
      "cell_type": "code",
      "metadata": {
        "id": "5Q6Ib_0HGJYQ",
        "colab_type": "code",
        "colab": {
          "base_uri": "https://localhost:8080/",
          "height": 204
        },
        "outputId": "5d7ef8e4-4882-4adb-ec8e-1cf133398baa"
      },
      "source": [
        "total_df['ProviderId'].value_counts()"
      ],
      "execution_count": 123,
      "outputs": [
        {
          "output_type": "execute_result",
          "data": {
            "text/plain": [
              "ProviderId_4            69683\n",
              "ProviderId_6            61630\n",
              "ProviderId_5            26710\n",
              "ProviderId_1             9879\n",
              "ProviderId_3             5901\n",
              "ProviderId_2               29\n",
              "ChannelId_3                 2\n",
              "2019-03-07T19:28:45Z        1\n",
              "250                         1\n",
              "10000                       1\n",
              "Name: ProviderId, dtype: int64"
            ]
          },
          "metadata": {
            "tags": []
          },
          "execution_count": 123
        }
      ]
    },
    {
      "cell_type": "code",
      "metadata": {
        "id": "oAVeqJN-HdGf",
        "colab_type": "code",
        "colab": {}
      },
      "source": [
        "total_df[total_df['ProviderId'] == 'ChannelId_3']['ProviderId']  = 'ProviderId_4'\n",
        "total_df[total_df['ProviderId'] == '2019-03-07T19:28:45Z']['ProviderId'] = 'ProviderId_6'\n",
        "total_df[total_df['ProviderId'] == '250']['ProviderId'] = 'ProviderId_6'\n",
        "total_df[total_df['ProviderId'] == '10000']['ProviderId'] = 'ProviderId_4'\n",
        "#total_df[total_df['ProviderId'] == 'airtime'] = 'ProviderId_4'\n",
        "#total_df[total_df['ProviderId'] == 'financial_services'] = 'ProviderId_6'"
      ],
      "execution_count": 0,
      "outputs": []
    },
    {
      "cell_type": "code",
      "metadata": {
        "id": "YxJx9sHzHdJm",
        "colab_type": "code",
        "colab": {
          "base_uri": "https://localhost:8080/",
          "height": 204
        },
        "outputId": "16e267e9-0d85-4380-cf10-a811e9c9ee84"
      },
      "source": [
        "total_df['ProviderId'].value_counts()"
      ],
      "execution_count": 125,
      "outputs": [
        {
          "output_type": "execute_result",
          "data": {
            "text/plain": [
              "ProviderId_4            69683\n",
              "ProviderId_6            61630\n",
              "ProviderId_5            26710\n",
              "ProviderId_1             9879\n",
              "ProviderId_3             5901\n",
              "ProviderId_2               29\n",
              "ChannelId_3                 2\n",
              "2019-03-07T19:28:45Z        1\n",
              "250                         1\n",
              "10000                       1\n",
              "Name: ProviderId, dtype: int64"
            ]
          },
          "metadata": {
            "tags": []
          },
          "execution_count": 125
        }
      ]
    },
    {
      "cell_type": "markdown",
      "metadata": {
        "id": "tyRaYhpMHSPo",
        "colab_type": "text"
      },
      "source": [
        "**ProductId**"
      ]
    },
    {
      "cell_type": "code",
      "metadata": {
        "id": "CJG3sLAeGJa6",
        "colab_type": "code",
        "colab": {
          "base_uri": "https://localhost:8080/",
          "height": 527
        },
        "outputId": "47fcaf6c-dd05-4497-e601-d41869165f4a"
      },
      "source": [
        "total_df['ProductId'].value_counts()"
      ],
      "execution_count": 32,
      "outputs": [
        {
          "output_type": "execute_result",
          "data": {
            "text/plain": [
              "ProductId_6     58326\n",
              "ProductId_3     42309\n",
              "ProductId_10    30434\n",
              "ProductId_15    22637\n",
              "ProductId_1      5029\n",
              "ProductId_4      3907\n",
              "ProductId_11     2916\n",
              "ProductId_21     2504\n",
              "ProductId_14     1639\n",
              "ProductId_19     1529\n",
              "ProductId_13      471\n",
              "ProductId_8       327\n",
              "ProductId_2       307\n",
              "ProductId_24      299\n",
              "ProductId_26      291\n",
              "ProductId_20      239\n",
              "ProductId_22      231\n",
              "ProductId_7       163\n",
              "ProductId_16       80\n",
              "ProductId_25       62\n",
              "ProductId_27       48\n",
              "ProductId_5        31\n",
              "ProductId_9        20\n",
              "ProductId_18       14\n",
              "ProductId_17       12\n",
              "ProductId_23        5\n",
              "ProviderId_6        4\n",
              "ProductId_12        2\n",
              "ProviderId_4        1\n",
              "Name: ProductId, dtype: int64"
            ]
          },
          "metadata": {
            "tags": []
          },
          "execution_count": 32
        }
      ]
    },
    {
      "cell_type": "code",
      "metadata": {
        "id": "04v3RM14HdrA",
        "colab_type": "code",
        "colab": {}
      },
      "source": [
        "total_df[total_df['ProductId'] == '-50'] = 'ProductId_6'\n",
        "total_df[total_df['ProductId'] == '10000'] = 'ProductId_6'\n",
        "total_df[total_df['ProductId'] == '2'] = 'ProductId_3'\n",
        "total_df[total_df['ProductId'] == '2019-02-21T00:13:20Z'] = 'ProductId_10'"
      ],
      "execution_count": 0,
      "outputs": []
    },
    {
      "cell_type": "code",
      "metadata": {
        "id": "tbRgRppbHduL",
        "colab_type": "code",
        "colab": {
          "base_uri": "https://localhost:8080/",
          "height": 527
        },
        "outputId": "6356a479-97e1-4c51-b812-e35a3de77cb1"
      },
      "source": [
        "total_df['ProductId'].value_counts()"
      ],
      "execution_count": 34,
      "outputs": [
        {
          "output_type": "execute_result",
          "data": {
            "text/plain": [
              "ProductId_6     58326\n",
              "ProductId_3     42309\n",
              "ProductId_10    30434\n",
              "ProductId_15    22637\n",
              "ProductId_1      5029\n",
              "ProductId_4      3907\n",
              "ProductId_11     2916\n",
              "ProductId_21     2504\n",
              "ProductId_14     1639\n",
              "ProductId_19     1529\n",
              "ProductId_13      471\n",
              "ProductId_8       327\n",
              "ProductId_2       307\n",
              "ProductId_24      299\n",
              "ProductId_26      291\n",
              "ProductId_20      239\n",
              "ProductId_22      231\n",
              "ProductId_7       163\n",
              "ProductId_16       80\n",
              "ProductId_25       62\n",
              "ProductId_27       48\n",
              "ProductId_5        31\n",
              "ProductId_9        20\n",
              "ProductId_18       14\n",
              "ProductId_17       12\n",
              "ProductId_23        5\n",
              "ProviderId_6        4\n",
              "ProductId_12        2\n",
              "ProviderId_4        1\n",
              "Name: ProductId, dtype: int64"
            ]
          },
          "metadata": {
            "tags": []
          },
          "execution_count": 34
        }
      ]
    },
    {
      "cell_type": "code",
      "metadata": {
        "id": "QyCJ5jNgGJdY",
        "colab_type": "code",
        "colab": {
          "base_uri": "https://localhost:8080/",
          "height": 545
        },
        "outputId": "28476a13-fbe8-4cdc-e55c-d5c375fe5c27"
      },
      "source": [
        "def display_all(df):\n",
        "    with pd.option_context(\"display.max_rows\", 1000, \"display.max_columns\", 1000): \n",
        "        display(df)\n",
        "\n",
        "        \n",
        "display_all(total_df.describe(include='all').T)"
      ],
      "execution_count": 25,
      "outputs": [
        {
          "output_type": "display_data",
          "data": {
            "text/html": [
              "<div>\n",
              "<style scoped>\n",
              "    .dataframe tbody tr th:only-of-type {\n",
              "        vertical-align: middle;\n",
              "    }\n",
              "\n",
              "    .dataframe tbody tr th {\n",
              "        vertical-align: top;\n",
              "    }\n",
              "\n",
              "    .dataframe thead th {\n",
              "        text-align: right;\n",
              "    }\n",
              "</style>\n",
              "<table border=\"1\" class=\"dataframe\">\n",
              "  <thead>\n",
              "    <tr style=\"text-align: right;\">\n",
              "      <th></th>\n",
              "      <th>count</th>\n",
              "      <th>unique</th>\n",
              "      <th>top</th>\n",
              "      <th>freq</th>\n",
              "      <th>mean</th>\n",
              "      <th>std</th>\n",
              "      <th>min</th>\n",
              "      <th>25%</th>\n",
              "      <th>50%</th>\n",
              "      <th>75%</th>\n",
              "      <th>max</th>\n",
              "    </tr>\n",
              "  </thead>\n",
              "  <tbody>\n",
              "    <tr>\n",
              "      <th>AccountId</th>\n",
              "      <td>173837</td>\n",
              "      <td>4844</td>\n",
              "      <td>AccountId_4841</td>\n",
              "      <td>52529</td>\n",
              "      <td>NaN</td>\n",
              "      <td>NaN</td>\n",
              "      <td>NaN</td>\n",
              "      <td>NaN</td>\n",
              "      <td>NaN</td>\n",
              "      <td>NaN</td>\n",
              "      <td>NaN</td>\n",
              "    </tr>\n",
              "    <tr>\n",
              "      <th>Amount</th>\n",
              "      <td>173837</td>\n",
              "      <td>NaN</td>\n",
              "      <td>NaN</td>\n",
              "      <td>NaN</td>\n",
              "      <td>5792.28</td>\n",
              "      <td>111365</td>\n",
              "      <td>-2.5e+06</td>\n",
              "      <td>-50</td>\n",
              "      <td>1000</td>\n",
              "      <td>3800</td>\n",
              "      <td>9.88e+06</td>\n",
              "    </tr>\n",
              "    <tr>\n",
              "      <th>BatchId</th>\n",
              "      <td>173837</td>\n",
              "      <td>139495</td>\n",
              "      <td>BatchId_67019</td>\n",
              "      <td>28</td>\n",
              "      <td>NaN</td>\n",
              "      <td>NaN</td>\n",
              "      <td>NaN</td>\n",
              "      <td>NaN</td>\n",
              "      <td>NaN</td>\n",
              "      <td>NaN</td>\n",
              "      <td>NaN</td>\n",
              "    </tr>\n",
              "    <tr>\n",
              "      <th>ChannelId</th>\n",
              "      <td>173837</td>\n",
              "      <td>7</td>\n",
              "      <td>ChannelId_3</td>\n",
              "      <td>125351</td>\n",
              "      <td>NaN</td>\n",
              "      <td>NaN</td>\n",
              "      <td>NaN</td>\n",
              "      <td>NaN</td>\n",
              "      <td>NaN</td>\n",
              "      <td>NaN</td>\n",
              "      <td>NaN</td>\n",
              "    </tr>\n",
              "    <tr>\n",
              "      <th>CountryCode</th>\n",
              "      <td>173837</td>\n",
              "      <td>1</td>\n",
              "      <td>256</td>\n",
              "      <td>173837</td>\n",
              "      <td>NaN</td>\n",
              "      <td>NaN</td>\n",
              "      <td>NaN</td>\n",
              "      <td>NaN</td>\n",
              "      <td>NaN</td>\n",
              "      <td>NaN</td>\n",
              "      <td>NaN</td>\n",
              "    </tr>\n",
              "    <tr>\n",
              "      <th>CurrencyCode</th>\n",
              "      <td>173837</td>\n",
              "      <td>1</td>\n",
              "      <td>UGX</td>\n",
              "      <td>173837</td>\n",
              "      <td>NaN</td>\n",
              "      <td>NaN</td>\n",
              "      <td>NaN</td>\n",
              "      <td>NaN</td>\n",
              "      <td>NaN</td>\n",
              "      <td>NaN</td>\n",
              "      <td>NaN</td>\n",
              "    </tr>\n",
              "    <tr>\n",
              "      <th>CustomerId</th>\n",
              "      <td>173837</td>\n",
              "      <td>7484</td>\n",
              "      <td>CustomerId_7343</td>\n",
              "      <td>4091</td>\n",
              "      <td>NaN</td>\n",
              "      <td>NaN</td>\n",
              "      <td>NaN</td>\n",
              "      <td>NaN</td>\n",
              "      <td>NaN</td>\n",
              "      <td>NaN</td>\n",
              "      <td>NaN</td>\n",
              "    </tr>\n",
              "    <tr>\n",
              "      <th>FraudResult</th>\n",
              "      <td>95662</td>\n",
              "      <td>NaN</td>\n",
              "      <td>NaN</td>\n",
              "      <td>NaN</td>\n",
              "      <td>0.00201752</td>\n",
              "      <td>0.0448717</td>\n",
              "      <td>0</td>\n",
              "      <td>0</td>\n",
              "      <td>0</td>\n",
              "      <td>0</td>\n",
              "      <td>1</td>\n",
              "    </tr>\n",
              "    <tr>\n",
              "      <th>PricingStrategy</th>\n",
              "      <td>173837</td>\n",
              "      <td>NaN</td>\n",
              "      <td>NaN</td>\n",
              "      <td>NaN</td>\n",
              "      <td>2.26249</td>\n",
              "      <td>0.742391</td>\n",
              "      <td>0</td>\n",
              "      <td>2</td>\n",
              "      <td>2</td>\n",
              "      <td>2</td>\n",
              "      <td>4</td>\n",
              "    </tr>\n",
              "    <tr>\n",
              "      <th>ProductCategory</th>\n",
              "      <td>173837</td>\n",
              "      <td>13</td>\n",
              "      <td>financial_services</td>\n",
              "      <td>82684</td>\n",
              "      <td>NaN</td>\n",
              "      <td>NaN</td>\n",
              "      <td>NaN</td>\n",
              "      <td>NaN</td>\n",
              "      <td>NaN</td>\n",
              "      <td>NaN</td>\n",
              "      <td>NaN</td>\n",
              "    </tr>\n",
              "    <tr>\n",
              "      <th>ProductId</th>\n",
              "      <td>173837</td>\n",
              "      <td>31</td>\n",
              "      <td>ProductId_6</td>\n",
              "      <td>58326</td>\n",
              "      <td>NaN</td>\n",
              "      <td>NaN</td>\n",
              "      <td>NaN</td>\n",
              "      <td>NaN</td>\n",
              "      <td>NaN</td>\n",
              "      <td>NaN</td>\n",
              "      <td>NaN</td>\n",
              "    </tr>\n",
              "    <tr>\n",
              "      <th>ProviderId</th>\n",
              "      <td>173837</td>\n",
              "      <td>10</td>\n",
              "      <td>ProviderId_4</td>\n",
              "      <td>69683</td>\n",
              "      <td>NaN</td>\n",
              "      <td>NaN</td>\n",
              "      <td>NaN</td>\n",
              "      <td>NaN</td>\n",
              "      <td>NaN</td>\n",
              "      <td>NaN</td>\n",
              "      <td>NaN</td>\n",
              "    </tr>\n",
              "    <tr>\n",
              "      <th>SubscriptionId</th>\n",
              "      <td>173837</td>\n",
              "      <td>4840</td>\n",
              "      <td>SubscriptionId_3829</td>\n",
              "      <td>58354</td>\n",
              "      <td>NaN</td>\n",
              "      <td>NaN</td>\n",
              "      <td>NaN</td>\n",
              "      <td>NaN</td>\n",
              "      <td>NaN</td>\n",
              "      <td>NaN</td>\n",
              "      <td>NaN</td>\n",
              "    </tr>\n",
              "    <tr>\n",
              "      <th>TransactionId</th>\n",
              "      <td>173837</td>\n",
              "      <td>140683</td>\n",
              "      <td>TransactionId_5761</td>\n",
              "      <td>2</td>\n",
              "      <td>NaN</td>\n",
              "      <td>NaN</td>\n",
              "      <td>NaN</td>\n",
              "      <td>NaN</td>\n",
              "      <td>NaN</td>\n",
              "      <td>NaN</td>\n",
              "      <td>NaN</td>\n",
              "    </tr>\n",
              "    <tr>\n",
              "      <th>TransactionStartTime</th>\n",
              "      <td>173837</td>\n",
              "      <td>138570</td>\n",
              "      <td>2018-12-24T16:30:13Z</td>\n",
              "      <td>17</td>\n",
              "      <td>NaN</td>\n",
              "      <td>NaN</td>\n",
              "      <td>NaN</td>\n",
              "      <td>NaN</td>\n",
              "      <td>NaN</td>\n",
              "      <td>NaN</td>\n",
              "      <td>NaN</td>\n",
              "    </tr>\n",
              "    <tr>\n",
              "      <th>Value</th>\n",
              "      <td>173837</td>\n",
              "      <td>NaN</td>\n",
              "      <td>NaN</td>\n",
              "      <td>NaN</td>\n",
              "      <td>10084.4</td>\n",
              "      <td>111085</td>\n",
              "      <td>2</td>\n",
              "      <td>496</td>\n",
              "      <td>1000</td>\n",
              "      <td>5000</td>\n",
              "      <td>9.88e+06</td>\n",
              "    </tr>\n",
              "  </tbody>\n",
              "</table>\n",
              "</div>"
            ],
            "text/plain": [
              "                       count  unique                   top    freq  \\\n",
              "AccountId             173837    4844        AccountId_4841   52529   \n",
              "Amount                173837     NaN                   NaN     NaN   \n",
              "BatchId               173837  139495         BatchId_67019      28   \n",
              "ChannelId             173837       7           ChannelId_3  125351   \n",
              "CountryCode           173837       1                   256  173837   \n",
              "CurrencyCode          173837       1                   UGX  173837   \n",
              "CustomerId            173837    7484       CustomerId_7343    4091   \n",
              "FraudResult            95662     NaN                   NaN     NaN   \n",
              "PricingStrategy       173837     NaN                   NaN     NaN   \n",
              "ProductCategory       173837      13    financial_services   82684   \n",
              "ProductId             173837      31           ProductId_6   58326   \n",
              "ProviderId            173837      10          ProviderId_4   69683   \n",
              "SubscriptionId        173837    4840   SubscriptionId_3829   58354   \n",
              "TransactionId         173837  140683    TransactionId_5761       2   \n",
              "TransactionStartTime  173837  138570  2018-12-24T16:30:13Z      17   \n",
              "Value                 173837     NaN                   NaN     NaN   \n",
              "\n",
              "                            mean        std      min  25%   50%   75%  \\\n",
              "AccountId                    NaN        NaN      NaN  NaN   NaN   NaN   \n",
              "Amount                   5792.28     111365 -2.5e+06  -50  1000  3800   \n",
              "BatchId                      NaN        NaN      NaN  NaN   NaN   NaN   \n",
              "ChannelId                    NaN        NaN      NaN  NaN   NaN   NaN   \n",
              "CountryCode                  NaN        NaN      NaN  NaN   NaN   NaN   \n",
              "CurrencyCode                 NaN        NaN      NaN  NaN   NaN   NaN   \n",
              "CustomerId                   NaN        NaN      NaN  NaN   NaN   NaN   \n",
              "FraudResult           0.00201752  0.0448717        0    0     0     0   \n",
              "PricingStrategy          2.26249   0.742391        0    2     2     2   \n",
              "ProductCategory              NaN        NaN      NaN  NaN   NaN   NaN   \n",
              "ProductId                    NaN        NaN      NaN  NaN   NaN   NaN   \n",
              "ProviderId                   NaN        NaN      NaN  NaN   NaN   NaN   \n",
              "SubscriptionId               NaN        NaN      NaN  NaN   NaN   NaN   \n",
              "TransactionId                NaN        NaN      NaN  NaN   NaN   NaN   \n",
              "TransactionStartTime         NaN        NaN      NaN  NaN   NaN   NaN   \n",
              "Value                    10084.4     111085        2  496  1000  5000   \n",
              "\n",
              "                           max  \n",
              "AccountId                  NaN  \n",
              "Amount                9.88e+06  \n",
              "BatchId                    NaN  \n",
              "ChannelId                  NaN  \n",
              "CountryCode                NaN  \n",
              "CurrencyCode               NaN  \n",
              "CustomerId                 NaN  \n",
              "FraudResult                  1  \n",
              "PricingStrategy              4  \n",
              "ProductCategory            NaN  \n",
              "ProductId                  NaN  \n",
              "ProviderId                 NaN  \n",
              "SubscriptionId             NaN  \n",
              "TransactionId              NaN  \n",
              "TransactionStartTime       NaN  \n",
              "Value                 9.88e+06  "
            ]
          },
          "metadata": {
            "tags": []
          }
        }
      ]
    },
    {
      "cell_type": "code",
      "metadata": {
        "id": "HoaPyxanGJgh",
        "colab_type": "code",
        "colab": {
          "base_uri": "https://localhost:8080/",
          "height": 68
        },
        "outputId": "f2cc4d70-8d2a-4b6f-cd3d-a7b5a819a6ed"
      },
      "source": [
        "total_df['FraudResult'].value_counts()"
      ],
      "execution_count": 26,
      "outputs": [
        {
          "output_type": "execute_result",
          "data": {
            "text/plain": [
              "0.0    95469\n",
              "1.0      193\n",
              "Name: FraudResult, dtype: int64"
            ]
          },
          "metadata": {
            "tags": []
          },
          "execution_count": 26
        }
      ]
    },
    {
      "cell_type": "code",
      "metadata": {
        "id": "55lw1z97GJn0",
        "colab_type": "code",
        "colab": {}
      },
      "source": [
        "total_df[total_df['FraudResult'] == 'ProviderId_6'] = 0.0\n",
        "total_df[total_df['FraudResult'] == 'ProviderId_4'] = 0.0"
      ],
      "execution_count": 0,
      "outputs": []
    },
    {
      "cell_type": "markdown",
      "metadata": {
        "id": "yYkR6ryQvyVS",
        "colab_type": "text"
      },
      "source": [
        "### Encoding Categorical Variables"
      ]
    },
    {
      "cell_type": "code",
      "metadata": {
        "id": "mzXvwaDvtz60",
        "colab_type": "code",
        "colab": {}
      },
      "source": [
        "# choosing categorical variables that need to be encoded\n",
        "categorical = ['ChannelId', 'ProviderId', 'ProductId', 'ProductCategory']\n",
        "\n",
        "for var in categorical:\n",
        "    total_df = pd.concat([total_df, \n",
        "                    pd.get_dummies(total_df[var], prefix=var)], axis=1)\n",
        "    del total_df[var]"
      ],
      "execution_count": 0,
      "outputs": []
    },
    {
      "cell_type": "code",
      "metadata": {
        "id": "b8HF3Vx4PGoZ",
        "colab_type": "code",
        "colab": {}
      },
      "source": [
        "categoricalSample = ['ChannelId', 'ProviderId', 'ProductId', 'ProductCategory']\n",
        "\n",
        "for var in categoricalSample:\n",
        "    totalSample_df = pd.concat([totalSample_df, \n",
        "                    pd.get_dummies(totalSample_df[var], prefix=var)], axis=1)\n",
        "    del totalSample_df[var]"
      ],
      "execution_count": 0,
      "outputs": []
    },
    {
      "cell_type": "code",
      "metadata": {
        "id": "N5RMe9Ejtz9e",
        "colab_type": "code",
        "colab": {
          "base_uri": "https://localhost:8080/",
          "height": 241
        },
        "outputId": "926d2893-879d-4c98-e723-2a1d488369a0"
      },
      "source": [
        "total_df.head()"
      ],
      "execution_count": 29,
      "outputs": [
        {
          "output_type": "execute_result",
          "data": {
            "text/html": [
              "<div>\n",
              "<style scoped>\n",
              "    .dataframe tbody tr th:only-of-type {\n",
              "        vertical-align: middle;\n",
              "    }\n",
              "\n",
              "    .dataframe tbody tr th {\n",
              "        vertical-align: top;\n",
              "    }\n",
              "\n",
              "    .dataframe thead th {\n",
              "        text-align: right;\n",
              "    }\n",
              "</style>\n",
              "<table border=\"1\" class=\"dataframe\">\n",
              "  <thead>\n",
              "    <tr style=\"text-align: right;\">\n",
              "      <th></th>\n",
              "      <th>AccountId</th>\n",
              "      <th>Amount</th>\n",
              "      <th>BatchId</th>\n",
              "      <th>CountryCode</th>\n",
              "      <th>CurrencyCode</th>\n",
              "      <th>CustomerId</th>\n",
              "      <th>FraudResult</th>\n",
              "      <th>PricingStrategy</th>\n",
              "      <th>SubscriptionId</th>\n",
              "      <th>TransactionId</th>\n",
              "      <th>TransactionStartTime</th>\n",
              "      <th>Value</th>\n",
              "      <th>ChannelId_2</th>\n",
              "      <th>ChannelId_2019-03-04T09:10:00Z</th>\n",
              "      <th>ChannelId_ChannelId_1</th>\n",
              "      <th>ChannelId_ChannelId_2</th>\n",
              "      <th>ChannelId_ChannelId_3</th>\n",
              "      <th>ChannelId_ChannelId_4</th>\n",
              "      <th>ChannelId_ChannelId_5</th>\n",
              "      <th>ProviderId_10000</th>\n",
              "      <th>ProviderId_2019-03-07T19:28:45Z</th>\n",
              "      <th>ProviderId_250</th>\n",
              "      <th>ProviderId_ChannelId_3</th>\n",
              "      <th>ProviderId_ProviderId_1</th>\n",
              "      <th>ProviderId_ProviderId_2</th>\n",
              "      <th>ProviderId_ProviderId_3</th>\n",
              "      <th>ProviderId_ProviderId_4</th>\n",
              "      <th>ProviderId_ProviderId_5</th>\n",
              "      <th>ProviderId_ProviderId_6</th>\n",
              "      <th>ProductId_-50</th>\n",
              "      <th>ProductId_10000</th>\n",
              "      <th>ProductId_2</th>\n",
              "      <th>ProductId_2019-02-21T00:13:20Z</th>\n",
              "      <th>ProductId_ProductId_1</th>\n",
              "      <th>ProductId_ProductId_10</th>\n",
              "      <th>ProductId_ProductId_11</th>\n",
              "      <th>ProductId_ProductId_12</th>\n",
              "      <th>ProductId_ProductId_13</th>\n",
              "      <th>ProductId_ProductId_14</th>\n",
              "      <th>ProductId_ProductId_15</th>\n",
              "      <th>ProductId_ProductId_16</th>\n",
              "      <th>ProductId_ProductId_17</th>\n",
              "      <th>ProductId_ProductId_18</th>\n",
              "      <th>ProductId_ProductId_19</th>\n",
              "      <th>ProductId_ProductId_2</th>\n",
              "      <th>ProductId_ProductId_20</th>\n",
              "      <th>ProductId_ProductId_21</th>\n",
              "      <th>ProductId_ProductId_22</th>\n",
              "      <th>ProductId_ProductId_23</th>\n",
              "      <th>ProductId_ProductId_24</th>\n",
              "      <th>ProductId_ProductId_25</th>\n",
              "      <th>ProductId_ProductId_26</th>\n",
              "      <th>ProductId_ProductId_27</th>\n",
              "      <th>ProductId_ProductId_3</th>\n",
              "      <th>ProductId_ProductId_4</th>\n",
              "      <th>ProductId_ProductId_5</th>\n",
              "      <th>ProductId_ProductId_6</th>\n",
              "      <th>ProductId_ProductId_7</th>\n",
              "      <th>ProductId_ProductId_8</th>\n",
              "      <th>ProductId_ProductId_9</th>\n",
              "      <th>ProductCategory_2</th>\n",
              "      <th>ProductCategory_2019-02-15T17:29:44Z</th>\n",
              "      <th>ProductCategory_50</th>\n",
              "      <th>ProductCategory_airtime</th>\n",
              "      <th>ProductCategory_data_bundles</th>\n",
              "      <th>ProductCategory_financial_services</th>\n",
              "      <th>ProductCategory_movies</th>\n",
              "      <th>ProductCategory_other</th>\n",
              "      <th>ProductCategory_retail</th>\n",
              "      <th>ProductCategory_ticket</th>\n",
              "      <th>ProductCategory_transport</th>\n",
              "      <th>ProductCategory_tv</th>\n",
              "      <th>ProductCategory_utility_bill</th>\n",
              "    </tr>\n",
              "  </thead>\n",
              "  <tbody>\n",
              "    <tr>\n",
              "      <th>0</th>\n",
              "      <td>AccountId_3957</td>\n",
              "      <td>1000.0</td>\n",
              "      <td>BatchId_36123</td>\n",
              "      <td>256</td>\n",
              "      <td>UGX</td>\n",
              "      <td>CustomerId_4406</td>\n",
              "      <td>0.0</td>\n",
              "      <td>2.0</td>\n",
              "      <td>SubscriptionId_887</td>\n",
              "      <td>TransactionId_76871</td>\n",
              "      <td>2018-11-15T02:18:49Z</td>\n",
              "      <td>1000.0</td>\n",
              "      <td>0</td>\n",
              "      <td>0</td>\n",
              "      <td>0</td>\n",
              "      <td>0</td>\n",
              "      <td>1</td>\n",
              "      <td>0</td>\n",
              "      <td>0</td>\n",
              "      <td>0</td>\n",
              "      <td>0</td>\n",
              "      <td>0</td>\n",
              "      <td>0</td>\n",
              "      <td>0</td>\n",
              "      <td>0</td>\n",
              "      <td>0</td>\n",
              "      <td>0</td>\n",
              "      <td>0</td>\n",
              "      <td>1</td>\n",
              "      <td>0</td>\n",
              "      <td>0</td>\n",
              "      <td>0</td>\n",
              "      <td>0</td>\n",
              "      <td>0</td>\n",
              "      <td>1</td>\n",
              "      <td>0</td>\n",
              "      <td>0</td>\n",
              "      <td>0</td>\n",
              "      <td>0</td>\n",
              "      <td>0</td>\n",
              "      <td>0</td>\n",
              "      <td>0</td>\n",
              "      <td>0</td>\n",
              "      <td>0</td>\n",
              "      <td>0</td>\n",
              "      <td>0</td>\n",
              "      <td>0</td>\n",
              "      <td>0</td>\n",
              "      <td>0</td>\n",
              "      <td>0</td>\n",
              "      <td>0</td>\n",
              "      <td>0</td>\n",
              "      <td>0</td>\n",
              "      <td>0</td>\n",
              "      <td>0</td>\n",
              "      <td>0</td>\n",
              "      <td>0</td>\n",
              "      <td>0</td>\n",
              "      <td>0</td>\n",
              "      <td>0</td>\n",
              "      <td>0</td>\n",
              "      <td>0</td>\n",
              "      <td>0</td>\n",
              "      <td>1</td>\n",
              "      <td>0</td>\n",
              "      <td>0</td>\n",
              "      <td>0</td>\n",
              "      <td>0</td>\n",
              "      <td>0</td>\n",
              "      <td>0</td>\n",
              "      <td>0</td>\n",
              "      <td>0</td>\n",
              "      <td>0</td>\n",
              "    </tr>\n",
              "    <tr>\n",
              "      <th>1</th>\n",
              "      <td>AccountId_4841</td>\n",
              "      <td>-20.0</td>\n",
              "      <td>BatchId_15642</td>\n",
              "      <td>256</td>\n",
              "      <td>UGX</td>\n",
              "      <td>CustomerId_4406</td>\n",
              "      <td>0.0</td>\n",
              "      <td>2.0</td>\n",
              "      <td>SubscriptionId_3829</td>\n",
              "      <td>TransactionId_73770</td>\n",
              "      <td>2018-11-15T02:19:08Z</td>\n",
              "      <td>20.0</td>\n",
              "      <td>0</td>\n",
              "      <td>0</td>\n",
              "      <td>0</td>\n",
              "      <td>1</td>\n",
              "      <td>0</td>\n",
              "      <td>0</td>\n",
              "      <td>0</td>\n",
              "      <td>0</td>\n",
              "      <td>0</td>\n",
              "      <td>0</td>\n",
              "      <td>0</td>\n",
              "      <td>0</td>\n",
              "      <td>0</td>\n",
              "      <td>0</td>\n",
              "      <td>1</td>\n",
              "      <td>0</td>\n",
              "      <td>0</td>\n",
              "      <td>0</td>\n",
              "      <td>0</td>\n",
              "      <td>0</td>\n",
              "      <td>0</td>\n",
              "      <td>0</td>\n",
              "      <td>0</td>\n",
              "      <td>0</td>\n",
              "      <td>0</td>\n",
              "      <td>0</td>\n",
              "      <td>0</td>\n",
              "      <td>0</td>\n",
              "      <td>0</td>\n",
              "      <td>0</td>\n",
              "      <td>0</td>\n",
              "      <td>0</td>\n",
              "      <td>0</td>\n",
              "      <td>0</td>\n",
              "      <td>0</td>\n",
              "      <td>0</td>\n",
              "      <td>0</td>\n",
              "      <td>0</td>\n",
              "      <td>0</td>\n",
              "      <td>0</td>\n",
              "      <td>0</td>\n",
              "      <td>0</td>\n",
              "      <td>0</td>\n",
              "      <td>0</td>\n",
              "      <td>1</td>\n",
              "      <td>0</td>\n",
              "      <td>0</td>\n",
              "      <td>0</td>\n",
              "      <td>0</td>\n",
              "      <td>0</td>\n",
              "      <td>0</td>\n",
              "      <td>0</td>\n",
              "      <td>0</td>\n",
              "      <td>1</td>\n",
              "      <td>0</td>\n",
              "      <td>0</td>\n",
              "      <td>0</td>\n",
              "      <td>0</td>\n",
              "      <td>0</td>\n",
              "      <td>0</td>\n",
              "      <td>0</td>\n",
              "    </tr>\n",
              "    <tr>\n",
              "      <th>2</th>\n",
              "      <td>AccountId_4229</td>\n",
              "      <td>500.0</td>\n",
              "      <td>BatchId_53941</td>\n",
              "      <td>256</td>\n",
              "      <td>UGX</td>\n",
              "      <td>CustomerId_4683</td>\n",
              "      <td>0.0</td>\n",
              "      <td>2.0</td>\n",
              "      <td>SubscriptionId_222</td>\n",
              "      <td>TransactionId_26203</td>\n",
              "      <td>2018-11-15T02:44:21Z</td>\n",
              "      <td>500.0</td>\n",
              "      <td>0</td>\n",
              "      <td>0</td>\n",
              "      <td>0</td>\n",
              "      <td>0</td>\n",
              "      <td>1</td>\n",
              "      <td>0</td>\n",
              "      <td>0</td>\n",
              "      <td>0</td>\n",
              "      <td>0</td>\n",
              "      <td>0</td>\n",
              "      <td>0</td>\n",
              "      <td>0</td>\n",
              "      <td>0</td>\n",
              "      <td>0</td>\n",
              "      <td>0</td>\n",
              "      <td>0</td>\n",
              "      <td>1</td>\n",
              "      <td>0</td>\n",
              "      <td>0</td>\n",
              "      <td>0</td>\n",
              "      <td>0</td>\n",
              "      <td>1</td>\n",
              "      <td>0</td>\n",
              "      <td>0</td>\n",
              "      <td>0</td>\n",
              "      <td>0</td>\n",
              "      <td>0</td>\n",
              "      <td>0</td>\n",
              "      <td>0</td>\n",
              "      <td>0</td>\n",
              "      <td>0</td>\n",
              "      <td>0</td>\n",
              "      <td>0</td>\n",
              "      <td>0</td>\n",
              "      <td>0</td>\n",
              "      <td>0</td>\n",
              "      <td>0</td>\n",
              "      <td>0</td>\n",
              "      <td>0</td>\n",
              "      <td>0</td>\n",
              "      <td>0</td>\n",
              "      <td>0</td>\n",
              "      <td>0</td>\n",
              "      <td>0</td>\n",
              "      <td>0</td>\n",
              "      <td>0</td>\n",
              "      <td>0</td>\n",
              "      <td>0</td>\n",
              "      <td>0</td>\n",
              "      <td>0</td>\n",
              "      <td>0</td>\n",
              "      <td>1</td>\n",
              "      <td>0</td>\n",
              "      <td>0</td>\n",
              "      <td>0</td>\n",
              "      <td>0</td>\n",
              "      <td>0</td>\n",
              "      <td>0</td>\n",
              "      <td>0</td>\n",
              "      <td>0</td>\n",
              "      <td>0</td>\n",
              "    </tr>\n",
              "    <tr>\n",
              "      <th>3</th>\n",
              "      <td>AccountId_648</td>\n",
              "      <td>20000.0</td>\n",
              "      <td>BatchId_102363</td>\n",
              "      <td>256</td>\n",
              "      <td>UGX</td>\n",
              "      <td>CustomerId_988</td>\n",
              "      <td>0.0</td>\n",
              "      <td>2.0</td>\n",
              "      <td>SubscriptionId_2185</td>\n",
              "      <td>TransactionId_380</td>\n",
              "      <td>2018-11-15T03:32:55Z</td>\n",
              "      <td>21800.0</td>\n",
              "      <td>0</td>\n",
              "      <td>0</td>\n",
              "      <td>0</td>\n",
              "      <td>0</td>\n",
              "      <td>1</td>\n",
              "      <td>0</td>\n",
              "      <td>0</td>\n",
              "      <td>0</td>\n",
              "      <td>0</td>\n",
              "      <td>0</td>\n",
              "      <td>0</td>\n",
              "      <td>1</td>\n",
              "      <td>0</td>\n",
              "      <td>0</td>\n",
              "      <td>0</td>\n",
              "      <td>0</td>\n",
              "      <td>0</td>\n",
              "      <td>0</td>\n",
              "      <td>0</td>\n",
              "      <td>0</td>\n",
              "      <td>0</td>\n",
              "      <td>0</td>\n",
              "      <td>0</td>\n",
              "      <td>0</td>\n",
              "      <td>0</td>\n",
              "      <td>0</td>\n",
              "      <td>0</td>\n",
              "      <td>0</td>\n",
              "      <td>0</td>\n",
              "      <td>0</td>\n",
              "      <td>0</td>\n",
              "      <td>0</td>\n",
              "      <td>0</td>\n",
              "      <td>0</td>\n",
              "      <td>1</td>\n",
              "      <td>0</td>\n",
              "      <td>0</td>\n",
              "      <td>0</td>\n",
              "      <td>0</td>\n",
              "      <td>0</td>\n",
              "      <td>0</td>\n",
              "      <td>0</td>\n",
              "      <td>0</td>\n",
              "      <td>0</td>\n",
              "      <td>0</td>\n",
              "      <td>0</td>\n",
              "      <td>0</td>\n",
              "      <td>0</td>\n",
              "      <td>0</td>\n",
              "      <td>0</td>\n",
              "      <td>0</td>\n",
              "      <td>0</td>\n",
              "      <td>0</td>\n",
              "      <td>0</td>\n",
              "      <td>0</td>\n",
              "      <td>0</td>\n",
              "      <td>0</td>\n",
              "      <td>0</td>\n",
              "      <td>0</td>\n",
              "      <td>0</td>\n",
              "      <td>1</td>\n",
              "    </tr>\n",
              "    <tr>\n",
              "      <th>4</th>\n",
              "      <td>AccountId_4841</td>\n",
              "      <td>-644.0</td>\n",
              "      <td>BatchId_38780</td>\n",
              "      <td>256</td>\n",
              "      <td>UGX</td>\n",
              "      <td>CustomerId_988</td>\n",
              "      <td>0.0</td>\n",
              "      <td>2.0</td>\n",
              "      <td>SubscriptionId_3829</td>\n",
              "      <td>TransactionId_28195</td>\n",
              "      <td>2018-11-15T03:34:21Z</td>\n",
              "      <td>644.0</td>\n",
              "      <td>0</td>\n",
              "      <td>0</td>\n",
              "      <td>0</td>\n",
              "      <td>1</td>\n",
              "      <td>0</td>\n",
              "      <td>0</td>\n",
              "      <td>0</td>\n",
              "      <td>0</td>\n",
              "      <td>0</td>\n",
              "      <td>0</td>\n",
              "      <td>0</td>\n",
              "      <td>0</td>\n",
              "      <td>0</td>\n",
              "      <td>0</td>\n",
              "      <td>1</td>\n",
              "      <td>0</td>\n",
              "      <td>0</td>\n",
              "      <td>0</td>\n",
              "      <td>0</td>\n",
              "      <td>0</td>\n",
              "      <td>0</td>\n",
              "      <td>0</td>\n",
              "      <td>0</td>\n",
              "      <td>0</td>\n",
              "      <td>0</td>\n",
              "      <td>0</td>\n",
              "      <td>0</td>\n",
              "      <td>0</td>\n",
              "      <td>0</td>\n",
              "      <td>0</td>\n",
              "      <td>0</td>\n",
              "      <td>0</td>\n",
              "      <td>0</td>\n",
              "      <td>0</td>\n",
              "      <td>0</td>\n",
              "      <td>0</td>\n",
              "      <td>0</td>\n",
              "      <td>0</td>\n",
              "      <td>0</td>\n",
              "      <td>0</td>\n",
              "      <td>0</td>\n",
              "      <td>0</td>\n",
              "      <td>0</td>\n",
              "      <td>0</td>\n",
              "      <td>1</td>\n",
              "      <td>0</td>\n",
              "      <td>0</td>\n",
              "      <td>0</td>\n",
              "      <td>0</td>\n",
              "      <td>0</td>\n",
              "      <td>0</td>\n",
              "      <td>0</td>\n",
              "      <td>0</td>\n",
              "      <td>1</td>\n",
              "      <td>0</td>\n",
              "      <td>0</td>\n",
              "      <td>0</td>\n",
              "      <td>0</td>\n",
              "      <td>0</td>\n",
              "      <td>0</td>\n",
              "      <td>0</td>\n",
              "    </tr>\n",
              "  </tbody>\n",
              "</table>\n",
              "</div>"
            ],
            "text/plain": [
              "        AccountId   Amount  ... ProductCategory_tv ProductCategory_utility_bill\n",
              "0  AccountId_3957   1000.0  ...                  0                            0\n",
              "1  AccountId_4841    -20.0  ...                  0                            0\n",
              "2  AccountId_4229    500.0  ...                  0                            0\n",
              "3   AccountId_648  20000.0  ...                  0                            1\n",
              "4  AccountId_4841   -644.0  ...                  0                            0\n",
              "\n",
              "[5 rows x 73 columns]"
            ]
          },
          "metadata": {
            "tags": []
          },
          "execution_count": 29
        }
      ]
    },
    {
      "cell_type": "markdown",
      "metadata": {
        "id": "ceBCy-4oz3WX",
        "colab_type": "text"
      },
      "source": [
        "Drop unnecessary columns"
      ]
    },
    {
      "cell_type": "code",
      "metadata": {
        "id": "Q0QGQpHlz4WP",
        "colab_type": "code",
        "colab": {}
      },
      "source": [
        "total_df.drop(['AccountId', 'BatchId', 'CustomerId', 'CurrencyCode', 'SubscriptionId', 'TransactionId', 'TransactionStartTime'], axis=1, inplace=True)\n",
        "totalSample_df.drop(['AccountId', 'BatchId', 'CustomerId', 'CurrencyCode', 'SubscriptionId', 'TransactionId', 'TransactionStartTime'], axis=1, inplace=True)"
      ],
      "execution_count": 0,
      "outputs": []
    },
    {
      "cell_type": "code",
      "metadata": {
        "id": "Adj1g5Vit0AE",
        "colab_type": "code",
        "colab": {
          "base_uri": "https://localhost:8080/",
          "height": 224
        },
        "outputId": "c351f5b7-3037-43ef-ca8d-190d0183b7b1"
      },
      "source": [
        "total_df.head()"
      ],
      "execution_count": 67,
      "outputs": [
        {
          "output_type": "execute_result",
          "data": {
            "text/html": [
              "<div>\n",
              "<style scoped>\n",
              "    .dataframe tbody tr th:only-of-type {\n",
              "        vertical-align: middle;\n",
              "    }\n",
              "\n",
              "    .dataframe tbody tr th {\n",
              "        vertical-align: top;\n",
              "    }\n",
              "\n",
              "    .dataframe thead th {\n",
              "        text-align: right;\n",
              "    }\n",
              "</style>\n",
              "<table border=\"1\" class=\"dataframe\">\n",
              "  <thead>\n",
              "    <tr style=\"text-align: right;\">\n",
              "      <th></th>\n",
              "      <th>Amount</th>\n",
              "      <th>CountryCode</th>\n",
              "      <th>FraudResult</th>\n",
              "      <th>PricingStrategy</th>\n",
              "      <th>Value</th>\n",
              "      <th>ChannelId_0.0</th>\n",
              "      <th>ChannelId_ChannelId_1</th>\n",
              "      <th>ChannelId_ChannelId_2</th>\n",
              "      <th>ChannelId_ChannelId_3</th>\n",
              "      <th>ChannelId_ChannelId_4</th>\n",
              "      <th>ChannelId_ChannelId_5</th>\n",
              "      <th>ProviderId_0.0</th>\n",
              "      <th>ProviderId_ProviderId_1</th>\n",
              "      <th>ProviderId_ProviderId_2</th>\n",
              "      <th>ProviderId_ProviderId_3</th>\n",
              "      <th>ProviderId_ProviderId_4</th>\n",
              "      <th>ProviderId_ProviderId_5</th>\n",
              "      <th>ProviderId_ProviderId_6</th>\n",
              "      <th>ProductId_0.0</th>\n",
              "      <th>ProductId_ProductId_1</th>\n",
              "      <th>ProductId_ProductId_10</th>\n",
              "      <th>ProductId_ProductId_11</th>\n",
              "      <th>ProductId_ProductId_12</th>\n",
              "      <th>ProductId_ProductId_13</th>\n",
              "      <th>ProductId_ProductId_14</th>\n",
              "      <th>ProductId_ProductId_15</th>\n",
              "      <th>ProductId_ProductId_16</th>\n",
              "      <th>ProductId_ProductId_17</th>\n",
              "      <th>ProductId_ProductId_18</th>\n",
              "      <th>ProductId_ProductId_19</th>\n",
              "      <th>ProductId_ProductId_2</th>\n",
              "      <th>ProductId_ProductId_20</th>\n",
              "      <th>ProductId_ProductId_21</th>\n",
              "      <th>ProductId_ProductId_22</th>\n",
              "      <th>ProductId_ProductId_23</th>\n",
              "      <th>ProductId_ProductId_24</th>\n",
              "      <th>ProductId_ProductId_25</th>\n",
              "      <th>ProductId_ProductId_26</th>\n",
              "      <th>ProductId_ProductId_27</th>\n",
              "      <th>ProductId_ProductId_3</th>\n",
              "      <th>ProductId_ProductId_4</th>\n",
              "      <th>ProductId_ProductId_5</th>\n",
              "      <th>ProductId_ProductId_6</th>\n",
              "      <th>ProductId_ProductId_7</th>\n",
              "      <th>ProductId_ProductId_8</th>\n",
              "      <th>ProductId_ProductId_9</th>\n",
              "      <th>ProductCategory_0.0</th>\n",
              "      <th>ProductCategory_airtime</th>\n",
              "      <th>ProductCategory_data_bundles</th>\n",
              "      <th>ProductCategory_financial_services</th>\n",
              "      <th>ProductCategory_movies</th>\n",
              "      <th>ProductCategory_other</th>\n",
              "      <th>ProductCategory_retail</th>\n",
              "      <th>ProductCategory_ticket</th>\n",
              "      <th>ProductCategory_transport</th>\n",
              "      <th>ProductCategory_tv</th>\n",
              "      <th>ProductCategory_utility_bill</th>\n",
              "    </tr>\n",
              "  </thead>\n",
              "  <tbody>\n",
              "    <tr>\n",
              "      <th>0</th>\n",
              "      <td>1000</td>\n",
              "      <td>256</td>\n",
              "      <td>0</td>\n",
              "      <td>2</td>\n",
              "      <td>1000</td>\n",
              "      <td>0</td>\n",
              "      <td>0</td>\n",
              "      <td>0</td>\n",
              "      <td>1</td>\n",
              "      <td>0</td>\n",
              "      <td>0</td>\n",
              "      <td>0</td>\n",
              "      <td>0</td>\n",
              "      <td>0</td>\n",
              "      <td>0</td>\n",
              "      <td>0</td>\n",
              "      <td>0</td>\n",
              "      <td>1</td>\n",
              "      <td>0</td>\n",
              "      <td>0</td>\n",
              "      <td>1</td>\n",
              "      <td>0</td>\n",
              "      <td>0</td>\n",
              "      <td>0</td>\n",
              "      <td>0</td>\n",
              "      <td>0</td>\n",
              "      <td>0</td>\n",
              "      <td>0</td>\n",
              "      <td>0</td>\n",
              "      <td>0</td>\n",
              "      <td>0</td>\n",
              "      <td>0</td>\n",
              "      <td>0</td>\n",
              "      <td>0</td>\n",
              "      <td>0</td>\n",
              "      <td>0</td>\n",
              "      <td>0</td>\n",
              "      <td>0</td>\n",
              "      <td>0</td>\n",
              "      <td>0</td>\n",
              "      <td>0</td>\n",
              "      <td>0</td>\n",
              "      <td>0</td>\n",
              "      <td>0</td>\n",
              "      <td>0</td>\n",
              "      <td>0</td>\n",
              "      <td>0</td>\n",
              "      <td>1</td>\n",
              "      <td>0</td>\n",
              "      <td>0</td>\n",
              "      <td>0</td>\n",
              "      <td>0</td>\n",
              "      <td>0</td>\n",
              "      <td>0</td>\n",
              "      <td>0</td>\n",
              "      <td>0</td>\n",
              "      <td>0</td>\n",
              "    </tr>\n",
              "    <tr>\n",
              "      <th>1</th>\n",
              "      <td>-20</td>\n",
              "      <td>256</td>\n",
              "      <td>0</td>\n",
              "      <td>2</td>\n",
              "      <td>20</td>\n",
              "      <td>0</td>\n",
              "      <td>0</td>\n",
              "      <td>1</td>\n",
              "      <td>0</td>\n",
              "      <td>0</td>\n",
              "      <td>0</td>\n",
              "      <td>0</td>\n",
              "      <td>0</td>\n",
              "      <td>0</td>\n",
              "      <td>0</td>\n",
              "      <td>1</td>\n",
              "      <td>0</td>\n",
              "      <td>0</td>\n",
              "      <td>0</td>\n",
              "      <td>0</td>\n",
              "      <td>0</td>\n",
              "      <td>0</td>\n",
              "      <td>0</td>\n",
              "      <td>0</td>\n",
              "      <td>0</td>\n",
              "      <td>0</td>\n",
              "      <td>0</td>\n",
              "      <td>0</td>\n",
              "      <td>0</td>\n",
              "      <td>0</td>\n",
              "      <td>0</td>\n",
              "      <td>0</td>\n",
              "      <td>0</td>\n",
              "      <td>0</td>\n",
              "      <td>0</td>\n",
              "      <td>0</td>\n",
              "      <td>0</td>\n",
              "      <td>0</td>\n",
              "      <td>0</td>\n",
              "      <td>0</td>\n",
              "      <td>0</td>\n",
              "      <td>0</td>\n",
              "      <td>1</td>\n",
              "      <td>0</td>\n",
              "      <td>0</td>\n",
              "      <td>0</td>\n",
              "      <td>0</td>\n",
              "      <td>0</td>\n",
              "      <td>0</td>\n",
              "      <td>1</td>\n",
              "      <td>0</td>\n",
              "      <td>0</td>\n",
              "      <td>0</td>\n",
              "      <td>0</td>\n",
              "      <td>0</td>\n",
              "      <td>0</td>\n",
              "      <td>0</td>\n",
              "    </tr>\n",
              "    <tr>\n",
              "      <th>2</th>\n",
              "      <td>500</td>\n",
              "      <td>256</td>\n",
              "      <td>0</td>\n",
              "      <td>2</td>\n",
              "      <td>500</td>\n",
              "      <td>0</td>\n",
              "      <td>0</td>\n",
              "      <td>0</td>\n",
              "      <td>1</td>\n",
              "      <td>0</td>\n",
              "      <td>0</td>\n",
              "      <td>0</td>\n",
              "      <td>0</td>\n",
              "      <td>0</td>\n",
              "      <td>0</td>\n",
              "      <td>0</td>\n",
              "      <td>0</td>\n",
              "      <td>1</td>\n",
              "      <td>0</td>\n",
              "      <td>1</td>\n",
              "      <td>0</td>\n",
              "      <td>0</td>\n",
              "      <td>0</td>\n",
              "      <td>0</td>\n",
              "      <td>0</td>\n",
              "      <td>0</td>\n",
              "      <td>0</td>\n",
              "      <td>0</td>\n",
              "      <td>0</td>\n",
              "      <td>0</td>\n",
              "      <td>0</td>\n",
              "      <td>0</td>\n",
              "      <td>0</td>\n",
              "      <td>0</td>\n",
              "      <td>0</td>\n",
              "      <td>0</td>\n",
              "      <td>0</td>\n",
              "      <td>0</td>\n",
              "      <td>0</td>\n",
              "      <td>0</td>\n",
              "      <td>0</td>\n",
              "      <td>0</td>\n",
              "      <td>0</td>\n",
              "      <td>0</td>\n",
              "      <td>0</td>\n",
              "      <td>0</td>\n",
              "      <td>0</td>\n",
              "      <td>1</td>\n",
              "      <td>0</td>\n",
              "      <td>0</td>\n",
              "      <td>0</td>\n",
              "      <td>0</td>\n",
              "      <td>0</td>\n",
              "      <td>0</td>\n",
              "      <td>0</td>\n",
              "      <td>0</td>\n",
              "      <td>0</td>\n",
              "    </tr>\n",
              "    <tr>\n",
              "      <th>3</th>\n",
              "      <td>20000</td>\n",
              "      <td>256</td>\n",
              "      <td>0</td>\n",
              "      <td>2</td>\n",
              "      <td>21800</td>\n",
              "      <td>0</td>\n",
              "      <td>0</td>\n",
              "      <td>0</td>\n",
              "      <td>1</td>\n",
              "      <td>0</td>\n",
              "      <td>0</td>\n",
              "      <td>0</td>\n",
              "      <td>1</td>\n",
              "      <td>0</td>\n",
              "      <td>0</td>\n",
              "      <td>0</td>\n",
              "      <td>0</td>\n",
              "      <td>0</td>\n",
              "      <td>0</td>\n",
              "      <td>0</td>\n",
              "      <td>0</td>\n",
              "      <td>0</td>\n",
              "      <td>0</td>\n",
              "      <td>0</td>\n",
              "      <td>0</td>\n",
              "      <td>0</td>\n",
              "      <td>0</td>\n",
              "      <td>0</td>\n",
              "      <td>0</td>\n",
              "      <td>0</td>\n",
              "      <td>0</td>\n",
              "      <td>0</td>\n",
              "      <td>1</td>\n",
              "      <td>0</td>\n",
              "      <td>0</td>\n",
              "      <td>0</td>\n",
              "      <td>0</td>\n",
              "      <td>0</td>\n",
              "      <td>0</td>\n",
              "      <td>0</td>\n",
              "      <td>0</td>\n",
              "      <td>0</td>\n",
              "      <td>0</td>\n",
              "      <td>0</td>\n",
              "      <td>0</td>\n",
              "      <td>0</td>\n",
              "      <td>0</td>\n",
              "      <td>0</td>\n",
              "      <td>0</td>\n",
              "      <td>0</td>\n",
              "      <td>0</td>\n",
              "      <td>0</td>\n",
              "      <td>0</td>\n",
              "      <td>0</td>\n",
              "      <td>0</td>\n",
              "      <td>0</td>\n",
              "      <td>1</td>\n",
              "    </tr>\n",
              "    <tr>\n",
              "      <th>4</th>\n",
              "      <td>-644</td>\n",
              "      <td>256</td>\n",
              "      <td>0</td>\n",
              "      <td>2</td>\n",
              "      <td>644</td>\n",
              "      <td>0</td>\n",
              "      <td>0</td>\n",
              "      <td>1</td>\n",
              "      <td>0</td>\n",
              "      <td>0</td>\n",
              "      <td>0</td>\n",
              "      <td>0</td>\n",
              "      <td>0</td>\n",
              "      <td>0</td>\n",
              "      <td>0</td>\n",
              "      <td>1</td>\n",
              "      <td>0</td>\n",
              "      <td>0</td>\n",
              "      <td>0</td>\n",
              "      <td>0</td>\n",
              "      <td>0</td>\n",
              "      <td>0</td>\n",
              "      <td>0</td>\n",
              "      <td>0</td>\n",
              "      <td>0</td>\n",
              "      <td>0</td>\n",
              "      <td>0</td>\n",
              "      <td>0</td>\n",
              "      <td>0</td>\n",
              "      <td>0</td>\n",
              "      <td>0</td>\n",
              "      <td>0</td>\n",
              "      <td>0</td>\n",
              "      <td>0</td>\n",
              "      <td>0</td>\n",
              "      <td>0</td>\n",
              "      <td>0</td>\n",
              "      <td>0</td>\n",
              "      <td>0</td>\n",
              "      <td>0</td>\n",
              "      <td>0</td>\n",
              "      <td>0</td>\n",
              "      <td>1</td>\n",
              "      <td>0</td>\n",
              "      <td>0</td>\n",
              "      <td>0</td>\n",
              "      <td>0</td>\n",
              "      <td>0</td>\n",
              "      <td>0</td>\n",
              "      <td>1</td>\n",
              "      <td>0</td>\n",
              "      <td>0</td>\n",
              "      <td>0</td>\n",
              "      <td>0</td>\n",
              "      <td>0</td>\n",
              "      <td>0</td>\n",
              "      <td>0</td>\n",
              "    </tr>\n",
              "  </tbody>\n",
              "</table>\n",
              "</div>"
            ],
            "text/plain": [
              "  Amount CountryCode  ... ProductCategory_tv  ProductCategory_utility_bill\n",
              "0   1000         256  ...                  0                             0\n",
              "1    -20         256  ...                  0                             0\n",
              "2    500         256  ...                  0                             0\n",
              "3  20000         256  ...                  0                             1\n",
              "4   -644         256  ...                  0                             0\n",
              "\n",
              "[5 rows x 57 columns]"
            ]
          },
          "metadata": {
            "tags": []
          },
          "execution_count": 67
        }
      ]
    },
    {
      "cell_type": "code",
      "metadata": {
        "id": "ERR-28jlt0C6",
        "colab_type": "code",
        "colab": {}
      },
      "source": [
        ""
      ],
      "execution_count": 0,
      "outputs": []
    },
    {
      "cell_type": "markdown",
      "metadata": {
        "id": "Dy4gSIRJuFKn",
        "colab_type": "text"
      },
      "source": [
        "## Model Building"
      ]
    },
    {
      "cell_type": "markdown",
      "metadata": {
        "id": "egKGuyXMyFv7",
        "colab_type": "text"
      },
      "source": [
        "Train/Test Split"
      ]
    },
    {
      "cell_type": "code",
      "metadata": {
        "id": "xq4NcnFct0Fh",
        "colab_type": "code",
        "colab": {}
      },
      "source": [
        "sampleTrain = totalSample_df[pd.notnull(totalSample_df['FraudResult'])]\n",
        "sample_X_test = totalSample_df[pd.isnull(totalSample_df['FraudResult'])].drop(['FraudResult'], axis=1)\n",
        "\n",
        "train = total_df[pd.notnull(total_df['FraudResult'])]\n",
        "X_test = total_df[pd.isnull(total_df['FraudResult'])].drop(['FraudResult'], axis=1)"
      ],
      "execution_count": 0,
      "outputs": []
    },
    {
      "cell_type": "markdown",
      "metadata": {
        "id": "sISwZUl4yJ6E",
        "colab_type": "text"
      },
      "source": [
        "Validation Set"
      ]
    },
    {
      "cell_type": "code",
      "metadata": {
        "id": "EuBpg_UoyKVU",
        "colab_type": "code",
        "colab": {}
      },
      "source": [
        "sample_X_train, sample_X_val, sample_y_train, sample_y_val = train_test_split(\n",
        "    sampleTrain.drop(['FraudResult'], axis=1),\n",
        "    sampleTrain['FraudResult'],\n",
        "    test_size=0.2, random_state=42)\n",
        "\n",
        "X_train, X_val, y_train, y_val = train_test_split(\n",
        "    train.drop(['FraudResult'], axis=1),\n",
        "    train['FraudResult'],\n",
        "    test_size=0.2, random_state=42)"
      ],
      "execution_count": 0,
      "outputs": []
    },
    {
      "cell_type": "code",
      "metadata": {
        "id": "d1hGy2mcMHbZ",
        "colab_type": "code",
        "colab": {
          "base_uri": "https://localhost:8080/",
          "height": 68
        },
        "outputId": "0f1aff32-29d3-428a-f1ec-aa4375dd5821"
      },
      "source": [
        "for i in [X_train, X_val, X_test]:\n",
        "    print(type(i))\n",
        "\n",
        "#print(type(y_train))\n",
        "#print(type(y_val))"
      ],
      "execution_count": 33,
      "outputs": [
        {
          "output_type": "stream",
          "text": [
            "<class 'pandas.core.frame.DataFrame'>\n",
            "<class 'pandas.core.frame.DataFrame'>\n",
            "<class 'pandas.core.frame.DataFrame'>\n"
          ],
          "name": "stdout"
        }
      ]
    },
    {
      "cell_type": "code",
      "metadata": {
        "id": "ADq-kiba23Zv",
        "colab_type": "code",
        "colab": {
          "base_uri": "https://localhost:8080/",
          "height": 241
        },
        "outputId": "98a0162e-3564-436b-e9e9-07b753c4f5d4"
      },
      "source": [
        "X_train.head()"
      ],
      "execution_count": 34,
      "outputs": [
        {
          "output_type": "execute_result",
          "data": {
            "text/html": [
              "<div>\n",
              "<style scoped>\n",
              "    .dataframe tbody tr th:only-of-type {\n",
              "        vertical-align: middle;\n",
              "    }\n",
              "\n",
              "    .dataframe tbody tr th {\n",
              "        vertical-align: top;\n",
              "    }\n",
              "\n",
              "    .dataframe thead th {\n",
              "        text-align: right;\n",
              "    }\n",
              "</style>\n",
              "<table border=\"1\" class=\"dataframe\">\n",
              "  <thead>\n",
              "    <tr style=\"text-align: right;\">\n",
              "      <th></th>\n",
              "      <th>Amount</th>\n",
              "      <th>CountryCode</th>\n",
              "      <th>PricingStrategy</th>\n",
              "      <th>Value</th>\n",
              "      <th>ChannelId_2</th>\n",
              "      <th>ChannelId_2019-03-04T09:10:00Z</th>\n",
              "      <th>ChannelId_ChannelId_1</th>\n",
              "      <th>ChannelId_ChannelId_2</th>\n",
              "      <th>ChannelId_ChannelId_3</th>\n",
              "      <th>ChannelId_ChannelId_4</th>\n",
              "      <th>ChannelId_ChannelId_5</th>\n",
              "      <th>ProviderId_10000</th>\n",
              "      <th>ProviderId_2019-03-07T19:28:45Z</th>\n",
              "      <th>ProviderId_250</th>\n",
              "      <th>ProviderId_ChannelId_3</th>\n",
              "      <th>ProviderId_ProviderId_1</th>\n",
              "      <th>ProviderId_ProviderId_2</th>\n",
              "      <th>ProviderId_ProviderId_3</th>\n",
              "      <th>ProviderId_ProviderId_4</th>\n",
              "      <th>ProviderId_ProviderId_5</th>\n",
              "      <th>ProviderId_ProviderId_6</th>\n",
              "      <th>ProductId_-50</th>\n",
              "      <th>ProductId_10000</th>\n",
              "      <th>ProductId_2</th>\n",
              "      <th>ProductId_2019-02-21T00:13:20Z</th>\n",
              "      <th>ProductId_ProductId_1</th>\n",
              "      <th>ProductId_ProductId_10</th>\n",
              "      <th>ProductId_ProductId_11</th>\n",
              "      <th>ProductId_ProductId_12</th>\n",
              "      <th>ProductId_ProductId_13</th>\n",
              "      <th>ProductId_ProductId_14</th>\n",
              "      <th>ProductId_ProductId_15</th>\n",
              "      <th>ProductId_ProductId_16</th>\n",
              "      <th>ProductId_ProductId_17</th>\n",
              "      <th>ProductId_ProductId_18</th>\n",
              "      <th>ProductId_ProductId_19</th>\n",
              "      <th>ProductId_ProductId_2</th>\n",
              "      <th>ProductId_ProductId_20</th>\n",
              "      <th>ProductId_ProductId_21</th>\n",
              "      <th>ProductId_ProductId_22</th>\n",
              "      <th>ProductId_ProductId_23</th>\n",
              "      <th>ProductId_ProductId_24</th>\n",
              "      <th>ProductId_ProductId_25</th>\n",
              "      <th>ProductId_ProductId_26</th>\n",
              "      <th>ProductId_ProductId_27</th>\n",
              "      <th>ProductId_ProductId_3</th>\n",
              "      <th>ProductId_ProductId_4</th>\n",
              "      <th>ProductId_ProductId_5</th>\n",
              "      <th>ProductId_ProductId_6</th>\n",
              "      <th>ProductId_ProductId_7</th>\n",
              "      <th>ProductId_ProductId_8</th>\n",
              "      <th>ProductId_ProductId_9</th>\n",
              "      <th>ProductCategory_2</th>\n",
              "      <th>ProductCategory_2019-02-15T17:29:44Z</th>\n",
              "      <th>ProductCategory_50</th>\n",
              "      <th>ProductCategory_airtime</th>\n",
              "      <th>ProductCategory_data_bundles</th>\n",
              "      <th>ProductCategory_financial_services</th>\n",
              "      <th>ProductCategory_movies</th>\n",
              "      <th>ProductCategory_other</th>\n",
              "      <th>ProductCategory_retail</th>\n",
              "      <th>ProductCategory_ticket</th>\n",
              "      <th>ProductCategory_transport</th>\n",
              "      <th>ProductCategory_tv</th>\n",
              "      <th>ProductCategory_utility_bill</th>\n",
              "    </tr>\n",
              "  </thead>\n",
              "  <tbody>\n",
              "    <tr>\n",
              "      <th>59096</th>\n",
              "      <td>-100.0</td>\n",
              "      <td>256</td>\n",
              "      <td>2.0</td>\n",
              "      <td>100.0</td>\n",
              "      <td>0</td>\n",
              "      <td>0</td>\n",
              "      <td>0</td>\n",
              "      <td>1</td>\n",
              "      <td>0</td>\n",
              "      <td>0</td>\n",
              "      <td>0</td>\n",
              "      <td>0</td>\n",
              "      <td>0</td>\n",
              "      <td>0</td>\n",
              "      <td>0</td>\n",
              "      <td>0</td>\n",
              "      <td>0</td>\n",
              "      <td>0</td>\n",
              "      <td>1</td>\n",
              "      <td>0</td>\n",
              "      <td>0</td>\n",
              "      <td>0</td>\n",
              "      <td>0</td>\n",
              "      <td>0</td>\n",
              "      <td>0</td>\n",
              "      <td>0</td>\n",
              "      <td>0</td>\n",
              "      <td>0</td>\n",
              "      <td>0</td>\n",
              "      <td>0</td>\n",
              "      <td>0</td>\n",
              "      <td>0</td>\n",
              "      <td>0</td>\n",
              "      <td>0</td>\n",
              "      <td>0</td>\n",
              "      <td>0</td>\n",
              "      <td>0</td>\n",
              "      <td>0</td>\n",
              "      <td>0</td>\n",
              "      <td>0</td>\n",
              "      <td>0</td>\n",
              "      <td>0</td>\n",
              "      <td>0</td>\n",
              "      <td>0</td>\n",
              "      <td>0</td>\n",
              "      <td>0</td>\n",
              "      <td>0</td>\n",
              "      <td>0</td>\n",
              "      <td>1</td>\n",
              "      <td>0</td>\n",
              "      <td>0</td>\n",
              "      <td>0</td>\n",
              "      <td>0</td>\n",
              "      <td>0</td>\n",
              "      <td>0</td>\n",
              "      <td>0</td>\n",
              "      <td>0</td>\n",
              "      <td>1</td>\n",
              "      <td>0</td>\n",
              "      <td>0</td>\n",
              "      <td>0</td>\n",
              "      <td>0</td>\n",
              "      <td>0</td>\n",
              "      <td>0</td>\n",
              "      <td>0</td>\n",
              "    </tr>\n",
              "    <tr>\n",
              "      <th>35991</th>\n",
              "      <td>5000.0</td>\n",
              "      <td>256</td>\n",
              "      <td>2.0</td>\n",
              "      <td>5000.0</td>\n",
              "      <td>0</td>\n",
              "      <td>0</td>\n",
              "      <td>0</td>\n",
              "      <td>0</td>\n",
              "      <td>1</td>\n",
              "      <td>0</td>\n",
              "      <td>0</td>\n",
              "      <td>0</td>\n",
              "      <td>0</td>\n",
              "      <td>0</td>\n",
              "      <td>0</td>\n",
              "      <td>0</td>\n",
              "      <td>0</td>\n",
              "      <td>0</td>\n",
              "      <td>0</td>\n",
              "      <td>0</td>\n",
              "      <td>1</td>\n",
              "      <td>0</td>\n",
              "      <td>0</td>\n",
              "      <td>0</td>\n",
              "      <td>0</td>\n",
              "      <td>0</td>\n",
              "      <td>1</td>\n",
              "      <td>0</td>\n",
              "      <td>0</td>\n",
              "      <td>0</td>\n",
              "      <td>0</td>\n",
              "      <td>0</td>\n",
              "      <td>0</td>\n",
              "      <td>0</td>\n",
              "      <td>0</td>\n",
              "      <td>0</td>\n",
              "      <td>0</td>\n",
              "      <td>0</td>\n",
              "      <td>0</td>\n",
              "      <td>0</td>\n",
              "      <td>0</td>\n",
              "      <td>0</td>\n",
              "      <td>0</td>\n",
              "      <td>0</td>\n",
              "      <td>0</td>\n",
              "      <td>0</td>\n",
              "      <td>0</td>\n",
              "      <td>0</td>\n",
              "      <td>0</td>\n",
              "      <td>0</td>\n",
              "      <td>0</td>\n",
              "      <td>0</td>\n",
              "      <td>0</td>\n",
              "      <td>0</td>\n",
              "      <td>0</td>\n",
              "      <td>1</td>\n",
              "      <td>0</td>\n",
              "      <td>0</td>\n",
              "      <td>0</td>\n",
              "      <td>0</td>\n",
              "      <td>0</td>\n",
              "      <td>0</td>\n",
              "      <td>0</td>\n",
              "      <td>0</td>\n",
              "      <td>0</td>\n",
              "    </tr>\n",
              "    <tr>\n",
              "      <th>69457</th>\n",
              "      <td>1000.0</td>\n",
              "      <td>256</td>\n",
              "      <td>2.0</td>\n",
              "      <td>1000.0</td>\n",
              "      <td>0</td>\n",
              "      <td>0</td>\n",
              "      <td>0</td>\n",
              "      <td>0</td>\n",
              "      <td>1</td>\n",
              "      <td>0</td>\n",
              "      <td>0</td>\n",
              "      <td>0</td>\n",
              "      <td>0</td>\n",
              "      <td>0</td>\n",
              "      <td>0</td>\n",
              "      <td>0</td>\n",
              "      <td>0</td>\n",
              "      <td>0</td>\n",
              "      <td>0</td>\n",
              "      <td>0</td>\n",
              "      <td>1</td>\n",
              "      <td>0</td>\n",
              "      <td>0</td>\n",
              "      <td>0</td>\n",
              "      <td>0</td>\n",
              "      <td>0</td>\n",
              "      <td>0</td>\n",
              "      <td>0</td>\n",
              "      <td>0</td>\n",
              "      <td>0</td>\n",
              "      <td>0</td>\n",
              "      <td>0</td>\n",
              "      <td>0</td>\n",
              "      <td>0</td>\n",
              "      <td>0</td>\n",
              "      <td>0</td>\n",
              "      <td>0</td>\n",
              "      <td>0</td>\n",
              "      <td>0</td>\n",
              "      <td>0</td>\n",
              "      <td>0</td>\n",
              "      <td>0</td>\n",
              "      <td>0</td>\n",
              "      <td>0</td>\n",
              "      <td>0</td>\n",
              "      <td>1</td>\n",
              "      <td>0</td>\n",
              "      <td>0</td>\n",
              "      <td>0</td>\n",
              "      <td>0</td>\n",
              "      <td>0</td>\n",
              "      <td>0</td>\n",
              "      <td>0</td>\n",
              "      <td>0</td>\n",
              "      <td>0</td>\n",
              "      <td>1</td>\n",
              "      <td>0</td>\n",
              "      <td>0</td>\n",
              "      <td>0</td>\n",
              "      <td>0</td>\n",
              "      <td>0</td>\n",
              "      <td>0</td>\n",
              "      <td>0</td>\n",
              "      <td>0</td>\n",
              "      <td>0</td>\n",
              "    </tr>\n",
              "    <tr>\n",
              "      <th>58498</th>\n",
              "      <td>-70.0</td>\n",
              "      <td>256</td>\n",
              "      <td>2.0</td>\n",
              "      <td>70.0</td>\n",
              "      <td>0</td>\n",
              "      <td>0</td>\n",
              "      <td>0</td>\n",
              "      <td>1</td>\n",
              "      <td>0</td>\n",
              "      <td>0</td>\n",
              "      <td>0</td>\n",
              "      <td>0</td>\n",
              "      <td>0</td>\n",
              "      <td>0</td>\n",
              "      <td>0</td>\n",
              "      <td>0</td>\n",
              "      <td>0</td>\n",
              "      <td>0</td>\n",
              "      <td>1</td>\n",
              "      <td>0</td>\n",
              "      <td>0</td>\n",
              "      <td>0</td>\n",
              "      <td>0</td>\n",
              "      <td>0</td>\n",
              "      <td>0</td>\n",
              "      <td>0</td>\n",
              "      <td>0</td>\n",
              "      <td>0</td>\n",
              "      <td>0</td>\n",
              "      <td>0</td>\n",
              "      <td>0</td>\n",
              "      <td>0</td>\n",
              "      <td>0</td>\n",
              "      <td>0</td>\n",
              "      <td>0</td>\n",
              "      <td>0</td>\n",
              "      <td>0</td>\n",
              "      <td>0</td>\n",
              "      <td>0</td>\n",
              "      <td>0</td>\n",
              "      <td>0</td>\n",
              "      <td>0</td>\n",
              "      <td>0</td>\n",
              "      <td>0</td>\n",
              "      <td>0</td>\n",
              "      <td>0</td>\n",
              "      <td>0</td>\n",
              "      <td>0</td>\n",
              "      <td>1</td>\n",
              "      <td>0</td>\n",
              "      <td>0</td>\n",
              "      <td>0</td>\n",
              "      <td>0</td>\n",
              "      <td>0</td>\n",
              "      <td>0</td>\n",
              "      <td>0</td>\n",
              "      <td>0</td>\n",
              "      <td>1</td>\n",
              "      <td>0</td>\n",
              "      <td>0</td>\n",
              "      <td>0</td>\n",
              "      <td>0</td>\n",
              "      <td>0</td>\n",
              "      <td>0</td>\n",
              "      <td>0</td>\n",
              "    </tr>\n",
              "    <tr>\n",
              "      <th>88790</th>\n",
              "      <td>20000.0</td>\n",
              "      <td>256</td>\n",
              "      <td>2.0</td>\n",
              "      <td>20000.0</td>\n",
              "      <td>0</td>\n",
              "      <td>0</td>\n",
              "      <td>0</td>\n",
              "      <td>0</td>\n",
              "      <td>1</td>\n",
              "      <td>0</td>\n",
              "      <td>0</td>\n",
              "      <td>0</td>\n",
              "      <td>0</td>\n",
              "      <td>0</td>\n",
              "      <td>0</td>\n",
              "      <td>0</td>\n",
              "      <td>0</td>\n",
              "      <td>0</td>\n",
              "      <td>0</td>\n",
              "      <td>0</td>\n",
              "      <td>1</td>\n",
              "      <td>0</td>\n",
              "      <td>0</td>\n",
              "      <td>0</td>\n",
              "      <td>0</td>\n",
              "      <td>0</td>\n",
              "      <td>1</td>\n",
              "      <td>0</td>\n",
              "      <td>0</td>\n",
              "      <td>0</td>\n",
              "      <td>0</td>\n",
              "      <td>0</td>\n",
              "      <td>0</td>\n",
              "      <td>0</td>\n",
              "      <td>0</td>\n",
              "      <td>0</td>\n",
              "      <td>0</td>\n",
              "      <td>0</td>\n",
              "      <td>0</td>\n",
              "      <td>0</td>\n",
              "      <td>0</td>\n",
              "      <td>0</td>\n",
              "      <td>0</td>\n",
              "      <td>0</td>\n",
              "      <td>0</td>\n",
              "      <td>0</td>\n",
              "      <td>0</td>\n",
              "      <td>0</td>\n",
              "      <td>0</td>\n",
              "      <td>0</td>\n",
              "      <td>0</td>\n",
              "      <td>0</td>\n",
              "      <td>0</td>\n",
              "      <td>0</td>\n",
              "      <td>0</td>\n",
              "      <td>1</td>\n",
              "      <td>0</td>\n",
              "      <td>0</td>\n",
              "      <td>0</td>\n",
              "      <td>0</td>\n",
              "      <td>0</td>\n",
              "      <td>0</td>\n",
              "      <td>0</td>\n",
              "      <td>0</td>\n",
              "      <td>0</td>\n",
              "    </tr>\n",
              "  </tbody>\n",
              "</table>\n",
              "</div>"
            ],
            "text/plain": [
              "        Amount CountryCode  ...  ProductCategory_tv  ProductCategory_utility_bill\n",
              "59096   -100.0         256  ...                   0                             0\n",
              "35991   5000.0         256  ...                   0                             0\n",
              "69457   1000.0         256  ...                   0                             0\n",
              "58498    -70.0         256  ...                   0                             0\n",
              "88790  20000.0         256  ...                   0                             0\n",
              "\n",
              "[5 rows x 65 columns]"
            ]
          },
          "metadata": {
            "tags": []
          },
          "execution_count": 34
        }
      ]
    },
    {
      "cell_type": "code",
      "metadata": {
        "id": "BJ4GefwPzJs5",
        "colab_type": "code",
        "colab": {
          "base_uri": "https://localhost:8080/",
          "height": 68
        },
        "outputId": "29ca4f61-8639-4b08-9f04-977ff393fd20"
      },
      "source": [
        "for i in [X_train, X_val, X_test]:\n",
        "    print(i.shape)"
      ],
      "execution_count": 35,
      "outputs": [
        {
          "output_type": "stream",
          "text": [
            "(76529, 65)\n",
            "(19133, 65)\n",
            "(78175, 65)\n"
          ],
          "name": "stdout"
        }
      ]
    },
    {
      "cell_type": "markdown",
      "metadata": {
        "id": "dELA45NgzXzG",
        "colab_type": "text"
      },
      "source": [
        "### Random Forest Classifier"
      ]
    },
    {
      "cell_type": "code",
      "metadata": {
        "id": "GFpK33vJzJvf",
        "colab_type": "code",
        "colab": {}
      },
      "source": [
        "rfc1 = RandomForestClassifier(random_state=42)"
      ],
      "execution_count": 0,
      "outputs": []
    },
    {
      "cell_type": "markdown",
      "metadata": {
        "id": "YzpB2bL42mwT",
        "colab_type": "text"
      },
      "source": [
        "Training the data"
      ]
    },
    {
      "cell_type": "code",
      "metadata": {
        "id": "JchNR1hQMpYG",
        "colab_type": "code",
        "colab": {
          "base_uri": "https://localhost:8080/",
          "height": 68
        },
        "outputId": "b4f0c05f-d121-47fb-b4a4-6567886e69f2"
      },
      "source": [
        "y_val.value_counts()"
      ],
      "execution_count": 37,
      "outputs": [
        {
          "output_type": "execute_result",
          "data": {
            "text/plain": [
              "0.0    19097\n",
              "1.0       36\n",
              "Name: FraudResult, dtype: int64"
            ]
          },
          "metadata": {
            "tags": []
          },
          "execution_count": 37
        }
      ]
    },
    {
      "cell_type": "code",
      "metadata": {
        "id": "4w5wDyaPQqR-",
        "colab_type": "code",
        "colab": {
          "base_uri": "https://localhost:8080/",
          "height": 170
        },
        "outputId": "62b38cf2-ca76-454c-a484-cce7236d0d08"
      },
      "source": [
        "rfc1.fit(sample_X_train, sample_y_train)"
      ],
      "execution_count": 38,
      "outputs": [
        {
          "output_type": "stream",
          "text": [
            "/usr/local/lib/python3.6/dist-packages/sklearn/ensemble/forest.py:245: FutureWarning: The default value of n_estimators will change from 10 in version 0.20 to 100 in 0.22.\n",
            "  \"10 in version 0.20 to 100 in 0.22.\", FutureWarning)\n"
          ],
          "name": "stderr"
        },
        {
          "output_type": "execute_result",
          "data": {
            "text/plain": [
              "RandomForestClassifier(bootstrap=True, class_weight=None, criterion='gini',\n",
              "                       max_depth=None, max_features='auto', max_leaf_nodes=None,\n",
              "                       min_impurity_decrease=0.0, min_impurity_split=None,\n",
              "                       min_samples_leaf=1, min_samples_split=2,\n",
              "                       min_weight_fraction_leaf=0.0, n_estimators=10,\n",
              "                       n_jobs=None, oob_score=False, random_state=42, verbose=0,\n",
              "                       warm_start=False)"
            ]
          },
          "metadata": {
            "tags": []
          },
          "execution_count": 38
        }
      ]
    },
    {
      "cell_type": "code",
      "metadata": {
        "id": "Sfos8FLWzJyI",
        "colab_type": "code",
        "colab": {
          "base_uri": "https://localhost:8080/",
          "height": 136
        },
        "outputId": "06abcae5-b62d-43f9-f177-2b9ef7bec455"
      },
      "source": [
        "rfc1.fit(X_train, y_train)"
      ],
      "execution_count": 40,
      "outputs": [
        {
          "output_type": "execute_result",
          "data": {
            "text/plain": [
              "RandomForestClassifier(bootstrap=True, class_weight=None, criterion='gini',\n",
              "                       max_depth=None, max_features='auto', max_leaf_nodes=None,\n",
              "                       min_impurity_decrease=0.0, min_impurity_split=None,\n",
              "                       min_samples_leaf=1, min_samples_split=2,\n",
              "                       min_weight_fraction_leaf=0.0, n_estimators=10,\n",
              "                       n_jobs=None, oob_score=False, random_state=42, verbose=0,\n",
              "                       warm_start=False)"
            ]
          },
          "metadata": {
            "tags": []
          },
          "execution_count": 40
        }
      ]
    },
    {
      "cell_type": "code",
      "metadata": {
        "id": "tTwOrs5G4mPk",
        "colab_type": "code",
        "colab": {}
      },
      "source": [
        "'''#sample_y_hat = rfc1.predict(sample_X_test)\n",
        "\n",
        "y_hat = rfc1.predict(X_test)'''"
      ],
      "execution_count": 0,
      "outputs": []
    },
    {
      "cell_type": "code",
      "metadata": {
        "id": "0Zf7pIDs4mR6",
        "colab_type": "code",
        "colab": {}
      },
      "source": [
        "'''#sample_y_proba = rfc1.predict_proba(sample_X_test)\n",
        "\n",
        "y_proba = rfc1.predict_proba(X_test)'''"
      ],
      "execution_count": 0,
      "outputs": []
    },
    {
      "cell_type": "code",
      "metadata": {
        "id": "9WdFHFs25UY3",
        "colab_type": "code",
        "colab": {}
      },
      "source": [
        "'''y_hat_star = np.where(y_proba[:,1] > 0.004, 1, 0)'''"
      ],
      "execution_count": 0,
      "outputs": []
    },
    {
      "cell_type": "code",
      "metadata": {
        "id": "qn4juxlV5HNO",
        "colab_type": "code",
        "colab": {
          "base_uri": "https://localhost:8080/",
          "height": 34
        },
        "outputId": "acfc000e-2221-4247-f8b6-1357e0d88605"
      },
      "source": [
        "'''count = 0\n",
        "for i in y_hat_star:\n",
        "  if y_hat_star[i] == 1:\n",
        "    count += 1\n",
        "    \n",
        "print(count)'''"
      ],
      "execution_count": 46,
      "outputs": [
        {
          "output_type": "stream",
          "text": [
            "0\n"
          ],
          "name": "stdout"
        }
      ]
    },
    {
      "cell_type": "markdown",
      "metadata": {
        "id": "5LVeILxH2rwM",
        "colab_type": "text"
      },
      "source": [
        "Testing the model"
      ]
    },
    {
      "cell_type": "code",
      "metadata": {
        "id": "MCHlgKQwzJ0h",
        "colab_type": "code",
        "colab": {
          "base_uri": "https://localhost:8080/",
          "height": 34
        },
        "outputId": "807ac11a-a333-450c-9bf6-8845f98fbb1c"
      },
      "source": [
        "accuracy_score(y_val, rfc1.predict(X_val))"
      ],
      "execution_count": 47,
      "outputs": [
        {
          "output_type": "execute_result",
          "data": {
            "text/plain": [
              "0.9997909371243402"
            ]
          },
          "metadata": {
            "tags": []
          },
          "execution_count": 47
        }
      ]
    },
    {
      "cell_type": "markdown",
      "metadata": {
        "id": "4ZZMkZ-67tvF",
        "colab_type": "text"
      },
      "source": [
        "### Cross Validation"
      ]
    },
    {
      "cell_type": "code",
      "metadata": {
        "id": "hOQaW59pyKZz",
        "colab_type": "code",
        "colab": {}
      },
      "source": [
        "X_train = pd.concat([X_train, X_val])\n",
        "y_train = pd.concat([y_train, y_val])"
      ],
      "execution_count": 0,
      "outputs": []
    },
    {
      "cell_type": "code",
      "metadata": {
        "id": "cb33KObw7z1W",
        "colab_type": "code",
        "colab": {
          "base_uri": "https://localhost:8080/",
          "height": 34
        },
        "outputId": "6edfd3b0-9b49-4f8e-f1fd-6978f1244ac9"
      },
      "source": [
        "y_train.shape"
      ],
      "execution_count": 49,
      "outputs": [
        {
          "output_type": "execute_result",
          "data": {
            "text/plain": [
              "(95662,)"
            ]
          },
          "metadata": {
            "tags": []
          },
          "execution_count": 49
        }
      ]
    },
    {
      "cell_type": "code",
      "metadata": {
        "id": "XjjoNDgg7z34",
        "colab_type": "code",
        "colab": {
          "base_uri": "https://localhost:8080/",
          "height": 51
        },
        "outputId": "ca1c7299-a0f1-4a7e-cf6f-600594b7b1ee"
      },
      "source": [
        "rfc2 = RandomForestClassifier(n_estimators=10, random_state=42)\n",
        "cross_val_score(rfc2, X_train, y_train, cv=10)"
      ],
      "execution_count": 52,
      "outputs": [
        {
          "output_type": "execute_result",
          "data": {
            "text/plain": [
              "array([0.99895474, 0.9995819 , 0.99968642, 0.99926824, 0.99937278,\n",
              "       0.99958185, 0.99937278, 0.99926824, 0.99958185, 0.99989545])"
            ]
          },
          "metadata": {
            "tags": []
          },
          "execution_count": 52
        }
      ]
    },
    {
      "cell_type": "code",
      "metadata": {
        "id": "YPwm1WHb7z6X",
        "colab_type": "code",
        "colab": {
          "base_uri": "https://localhost:8080/",
          "height": 34
        },
        "outputId": "4bd44adb-42b9-47bd-f975-8d80e9bf1c6e"
      },
      "source": [
        "cross_val_score(rfc2, X_train, y_train, cv=5).mean()"
      ],
      "execution_count": 53,
      "outputs": [
        {
          "output_type": "execute_result",
          "data": {
            "text/plain": [
              "0.9994146113813652"
            ]
          },
          "metadata": {
            "tags": []
          },
          "execution_count": 53
        }
      ]
    },
    {
      "cell_type": "markdown",
      "metadata": {
        "id": "jvKmyV6R8-As",
        "colab_type": "text"
      },
      "source": [
        "### Hyper-parameter tuning"
      ]
    },
    {
      "cell_type": "code",
      "metadata": {
        "id": "hitq4K027z84",
        "colab_type": "code",
        "colab": {}
      },
      "source": [
        "# creating the grid for GridSearch optimisor\n",
        "n_estimators = [10, 25, 50, 100, 1000, 2000]\n",
        "max_depth = [None, 5, 10, 15, 25]\n",
        "param_grid = dict(n_estimators=n_estimators, max_depth=max_depth)"
      ],
      "execution_count": 0,
      "outputs": []
    },
    {
      "cell_type": "code",
      "metadata": {
        "id": "i4zah_QD84nj",
        "colab_type": "code",
        "colab": {}
      },
      "source": [
        "rfc3 = RandomForestClassifier(random_state=42)"
      ],
      "execution_count": 0,
      "outputs": []
    },
    {
      "cell_type": "code",
      "metadata": {
        "id": "TKyEsNI784p6",
        "colab_type": "code",
        "colab": {}
      },
      "source": [
        "# perform grid search to output the best possible estimator with best possible parameters\n",
        "grid = GridSearchCV(estimator=rfc3, \n",
        "                    param_grid=param_grid,\n",
        "                    cv=3,\n",
        "                    verbose=2,\n",
        "                    n_jobs=-1)"
      ],
      "execution_count": 0,
      "outputs": []
    },
    {
      "cell_type": "code",
      "metadata": {
        "id": "TnoGYRmX84sv",
        "colab_type": "code",
        "colab": {
          "base_uri": "https://localhost:8080/",
          "height": 85
        },
        "outputId": "8b7afa01-d6ff-4ae4-893d-4facd2862503"
      },
      "source": [
        "grid_result = grid.fit(X_train, y_train)"
      ],
      "execution_count": 61,
      "outputs": [
        {
          "output_type": "stream",
          "text": [
            "Fitting 3 folds for each of 30 candidates, totalling 90 fits\n"
          ],
          "name": "stdout"
        },
        {
          "output_type": "stream",
          "text": [
            "[Parallel(n_jobs=-1)]: Using backend LokyBackend with 2 concurrent workers.\n",
            "[Parallel(n_jobs=-1)]: Done  37 tasks      | elapsed:  6.1min\n",
            "[Parallel(n_jobs=-1)]: Done  90 out of  90 | elapsed: 17.6min finished\n"
          ],
          "name": "stderr"
        }
      ]
    },
    {
      "cell_type": "code",
      "metadata": {
        "id": "zx-hmz0i84vi",
        "colab_type": "code",
        "colab": {
          "base_uri": "https://localhost:8080/",
          "height": 170
        },
        "outputId": "b77d1e9b-10d9-4f69-b2cc-ca312b4d8a36"
      },
      "source": [
        "print(grid_result.best_estimator_)\n",
        "print(grid_result.best_params_)\n",
        "print(grid_result.best_score_)"
      ],
      "execution_count": 62,
      "outputs": [
        {
          "output_type": "stream",
          "text": [
            "RandomForestClassifier(bootstrap=True, class_weight=None, criterion='gini',\n",
            "                       max_depth=10, max_features='auto', max_leaf_nodes=None,\n",
            "                       min_impurity_decrease=0.0, min_impurity_split=None,\n",
            "                       min_samples_leaf=1, min_samples_split=2,\n",
            "                       min_weight_fraction_leaf=0.0, n_estimators=50,\n",
            "                       n_jobs=None, oob_score=False, random_state=42, verbose=0,\n",
            "                       warm_start=False)\n",
            "{'max_depth': 10, 'n_estimators': 50}\n",
            "0.9994668729485062\n"
          ],
          "name": "stdout"
        }
      ]
    },
    {
      "cell_type": "markdown",
      "metadata": {
        "id": "2EJZqvX_Am0z",
        "colab_type": "text"
      },
      "source": [
        "## Predicting Results for test data"
      ]
    },
    {
      "cell_type": "code",
      "metadata": {
        "id": "fXSDiqMr84xo",
        "colab_type": "code",
        "colab": {}
      },
      "source": [
        "rfc4 = grid_result.best_estimator_"
      ],
      "execution_count": 0,
      "outputs": []
    },
    {
      "cell_type": "code",
      "metadata": {
        "id": "LXexACm-840B",
        "colab_type": "code",
        "colab": {
          "base_uri": "https://localhost:8080/",
          "height": 34
        },
        "outputId": "dd586747-c0b5-4aec-968c-7a061f41cfeb"
      },
      "source": [
        "# testSample CV score\n",
        "cross_val_score(rfc4, sample_X_train, sample_y_train, cv=5).mean()\n"
      ],
      "execution_count": 64,
      "outputs": [
        {
          "output_type": "execute_result",
          "data": {
            "text/plain": [
              "0.9992106125961702"
            ]
          },
          "metadata": {
            "tags": []
          },
          "execution_count": 64
        }
      ]
    },
    {
      "cell_type": "code",
      "metadata": {
        "id": "cPc7d2ZvV86c",
        "colab_type": "code",
        "colab": {
          "base_uri": "https://localhost:8080/",
          "height": 34
        },
        "outputId": "5322778a-0385-4b5a-84b6-217ab684bce6"
      },
      "source": [
        "# testFull CV score\n",
        "cross_val_score(rfc4, X_train, y_train, cv=5).mean()"
      ],
      "execution_count": 65,
      "outputs": [
        {
          "output_type": "execute_result",
          "data": {
            "text/plain": [
              "0.9994041582375823"
            ]
          },
          "metadata": {
            "tags": []
          },
          "execution_count": 65
        }
      ]
    },
    {
      "cell_type": "code",
      "metadata": {
        "id": "17QcI7uc842Y",
        "colab_type": "code",
        "colab": {}
      },
      "source": [
        "# saving preditcions to new column in test dataframes\n",
        "\n",
        "#testSample_df['FraudResult'] = rfc4.predict(sample_X_test)\n",
        "test_df['FraudResult'] = rfc4.predict(X_test)\n"
      ],
      "execution_count": 0,
      "outputs": []
    },
    {
      "cell_type": "code",
      "metadata": {
        "id": "Zkls9O8K_6I3",
        "colab_type": "code",
        "colab": {}
      },
      "source": [
        "testSample_df['FraudResult'].value_counts()"
      ],
      "execution_count": 0,
      "outputs": []
    },
    {
      "cell_type": "code",
      "metadata": {
        "id": "tpzxr6F3WK4B",
        "colab_type": "code",
        "colab": {
          "base_uri": "https://localhost:8080/",
          "height": 68
        },
        "outputId": "4443657a-77e3-425b-c40f-a327553fc58b"
      },
      "source": [
        "test_df['FraudResult'].value_counts()"
      ],
      "execution_count": 69,
      "outputs": [
        {
          "output_type": "execute_result",
          "data": {
            "text/plain": [
              "0.0    78072\n",
              "1.0      103\n",
              "Name: FraudResult, dtype: int64"
            ]
          },
          "metadata": {
            "tags": []
          },
          "execution_count": 69
        }
      ]
    },
    {
      "cell_type": "code",
      "metadata": {
        "id": "MMp7U0cpY_3_",
        "colab_type": "code",
        "colab": {
          "base_uri": "https://localhost:8080/",
          "height": 224
        },
        "outputId": "43d65a7c-8b31-4d20-e159-3ba2ada1ea24"
      },
      "source": [
        "test_df.head()"
      ],
      "execution_count": 70,
      "outputs": [
        {
          "output_type": "execute_result",
          "data": {
            "text/html": [
              "<div>\n",
              "<style scoped>\n",
              "    .dataframe tbody tr th:only-of-type {\n",
              "        vertical-align: middle;\n",
              "    }\n",
              "\n",
              "    .dataframe tbody tr th {\n",
              "        vertical-align: top;\n",
              "    }\n",
              "\n",
              "    .dataframe thead th {\n",
              "        text-align: right;\n",
              "    }\n",
              "</style>\n",
              "<table border=\"1\" class=\"dataframe\">\n",
              "  <thead>\n",
              "    <tr style=\"text-align: right;\">\n",
              "      <th></th>\n",
              "      <th>TransactionId</th>\n",
              "      <th>BatchId</th>\n",
              "      <th>AccountId</th>\n",
              "      <th>SubscriptionId</th>\n",
              "      <th>CustomerId</th>\n",
              "      <th>CurrencyCode</th>\n",
              "      <th>CountryCode</th>\n",
              "      <th>ProviderId</th>\n",
              "      <th>ProductId</th>\n",
              "      <th>ProductCategory</th>\n",
              "      <th>ChannelId</th>\n",
              "      <th>Amount</th>\n",
              "      <th>Value</th>\n",
              "      <th>TransactionStartTime</th>\n",
              "      <th>PricingStrategy</th>\n",
              "      <th>FraudResult</th>\n",
              "    </tr>\n",
              "  </thead>\n",
              "  <tbody>\n",
              "    <tr>\n",
              "      <th>0</th>\n",
              "      <td>TransactionId_50600</td>\n",
              "      <td>BatchId_35028</td>\n",
              "      <td>AccountId_2441</td>\n",
              "      <td>SubscriptionId_4426</td>\n",
              "      <td>CustomerId_2857</td>\n",
              "      <td>UGX</td>\n",
              "      <td>256</td>\n",
              "      <td>ProviderId_5</td>\n",
              "      <td>ProductId_3</td>\n",
              "      <td>airtime</td>\n",
              "      <td>ChannelId_3</td>\n",
              "      <td>1000.0</td>\n",
              "      <td>1000.0</td>\n",
              "      <td>2019-02-13T10:01:40Z</td>\n",
              "      <td>4.0</td>\n",
              "      <td>0.0</td>\n",
              "    </tr>\n",
              "    <tr>\n",
              "      <th>1</th>\n",
              "      <td>TransactionId_95109</td>\n",
              "      <td>BatchId_45139</td>\n",
              "      <td>AccountId_3439</td>\n",
              "      <td>SubscriptionId_2643</td>\n",
              "      <td>CustomerId_3874</td>\n",
              "      <td>UGX</td>\n",
              "      <td>256</td>\n",
              "      <td>ProviderId_5</td>\n",
              "      <td>ProductId_15</td>\n",
              "      <td>financial_services</td>\n",
              "      <td>ChannelId_3</td>\n",
              "      <td>2000.0</td>\n",
              "      <td>2000.0</td>\n",
              "      <td>2019-02-13T10:02:12Z</td>\n",
              "      <td>2.0</td>\n",
              "      <td>0.0</td>\n",
              "    </tr>\n",
              "    <tr>\n",
              "      <th>2</th>\n",
              "      <td>TransactionId_47357</td>\n",
              "      <td>BatchId_74887</td>\n",
              "      <td>AccountId_4841</td>\n",
              "      <td>SubscriptionId_3829</td>\n",
              "      <td>CustomerId_2857</td>\n",
              "      <td>UGX</td>\n",
              "      <td>256</td>\n",
              "      <td>ProviderId_4</td>\n",
              "      <td>ProductId_6</td>\n",
              "      <td>financial_services</td>\n",
              "      <td>ChannelId_2</td>\n",
              "      <td>-50.0</td>\n",
              "      <td>50.0</td>\n",
              "      <td>2019-02-13T10:02:30Z</td>\n",
              "      <td>2.0</td>\n",
              "      <td>0.0</td>\n",
              "    </tr>\n",
              "    <tr>\n",
              "      <th>3</th>\n",
              "      <td>TransactionId_28185</td>\n",
              "      <td>BatchId_11025</td>\n",
              "      <td>AccountId_2685</td>\n",
              "      <td>SubscriptionId_4626</td>\n",
              "      <td>CustomerId_3105</td>\n",
              "      <td>UGX</td>\n",
              "      <td>256</td>\n",
              "      <td>ProviderId_5</td>\n",
              "      <td>ProductId_10</td>\n",
              "      <td>airtime</td>\n",
              "      <td>ChannelId_3</td>\n",
              "      <td>3000.0</td>\n",
              "      <td>3000.0</td>\n",
              "      <td>2019-02-13T10:02:38Z</td>\n",
              "      <td>4.0</td>\n",
              "      <td>0.0</td>\n",
              "    </tr>\n",
              "    <tr>\n",
              "      <th>4</th>\n",
              "      <td>TransactionId_22140</td>\n",
              "      <td>BatchId_29804</td>\n",
              "      <td>AccountId_4841</td>\n",
              "      <td>SubscriptionId_3829</td>\n",
              "      <td>CustomerId_3105</td>\n",
              "      <td>UGX</td>\n",
              "      <td>256</td>\n",
              "      <td>ProviderId_4</td>\n",
              "      <td>ProductId_6</td>\n",
              "      <td>financial_services</td>\n",
              "      <td>ChannelId_2</td>\n",
              "      <td>-60.0</td>\n",
              "      <td>60.0</td>\n",
              "      <td>2019-02-13T10:02:58Z</td>\n",
              "      <td>2.0</td>\n",
              "      <td>0.0</td>\n",
              "    </tr>\n",
              "  </tbody>\n",
              "</table>\n",
              "</div>"
            ],
            "text/plain": [
              "         TransactionId        BatchId  ... PricingStrategy FraudResult\n",
              "0  TransactionId_50600  BatchId_35028  ...             4.0         0.0\n",
              "1  TransactionId_95109  BatchId_45139  ...             2.0         0.0\n",
              "2  TransactionId_47357  BatchId_74887  ...             2.0         0.0\n",
              "3  TransactionId_28185  BatchId_11025  ...             4.0         0.0\n",
              "4  TransactionId_22140  BatchId_29804  ...             2.0         0.0\n",
              "\n",
              "[5 rows x 16 columns]"
            ]
          },
          "metadata": {
            "tags": []
          },
          "execution_count": 70
        }
      ]
    },
    {
      "cell_type": "markdown",
      "metadata": {
        "id": "MlDvgPBBjU1F",
        "colab_type": "text"
      },
      "source": [
        "## Preparing for Submission"
      ]
    },
    {
      "cell_type": "code",
      "metadata": {
        "id": "6TURF_UDZABi",
        "colab_type": "code",
        "colab": {}
      },
      "source": [
        "submission_df = test_df.drop(['BatchId', 'AccountId',\t'SubscriptionId',\t'CustomerId',\t'CurrencyCode',\t'CountryCode',\t'ProviderId',\t'ProductId',\t'ProductCategory',\t'ChannelId',\t'Amount',\t'Value',\t'TransactionStartTime',\t'PricingStrategy'], axis = 1)"
      ],
      "execution_count": 0,
      "outputs": []
    },
    {
      "cell_type": "code",
      "metadata": {
        "id": "4M084rftZ7Rv",
        "colab_type": "code",
        "colab": {
          "base_uri": "https://localhost:8080/",
          "height": 204
        },
        "outputId": "033992a6-faa7-4c75-c26d-1fdcca28c535"
      },
      "source": [
        "submission_df.head() #[submission_df['TransactionId']=='']"
      ],
      "execution_count": 81,
      "outputs": [
        {
          "output_type": "execute_result",
          "data": {
            "text/html": [
              "<div>\n",
              "<style scoped>\n",
              "    .dataframe tbody tr th:only-of-type {\n",
              "        vertical-align: middle;\n",
              "    }\n",
              "\n",
              "    .dataframe tbody tr th {\n",
              "        vertical-align: top;\n",
              "    }\n",
              "\n",
              "    .dataframe thead th {\n",
              "        text-align: right;\n",
              "    }\n",
              "</style>\n",
              "<table border=\"1\" class=\"dataframe\">\n",
              "  <thead>\n",
              "    <tr style=\"text-align: right;\">\n",
              "      <th></th>\n",
              "      <th>TransactionId</th>\n",
              "      <th>FraudResult</th>\n",
              "    </tr>\n",
              "  </thead>\n",
              "  <tbody>\n",
              "    <tr>\n",
              "      <th>0</th>\n",
              "      <td>TransactionId_50600</td>\n",
              "      <td>0.0</td>\n",
              "    </tr>\n",
              "    <tr>\n",
              "      <th>1</th>\n",
              "      <td>TransactionId_95109</td>\n",
              "      <td>0.0</td>\n",
              "    </tr>\n",
              "    <tr>\n",
              "      <th>2</th>\n",
              "      <td>TransactionId_47357</td>\n",
              "      <td>0.0</td>\n",
              "    </tr>\n",
              "    <tr>\n",
              "      <th>3</th>\n",
              "      <td>TransactionId_28185</td>\n",
              "      <td>0.0</td>\n",
              "    </tr>\n",
              "    <tr>\n",
              "      <th>4</th>\n",
              "      <td>TransactionId_22140</td>\n",
              "      <td>0.0</td>\n",
              "    </tr>\n",
              "  </tbody>\n",
              "</table>\n",
              "</div>"
            ],
            "text/plain": [
              "         TransactionId  FraudResult\n",
              "0  TransactionId_50600          0.0\n",
              "1  TransactionId_95109          0.0\n",
              "2  TransactionId_47357          0.0\n",
              "3  TransactionId_28185          0.0\n",
              "4  TransactionId_22140          0.0"
            ]
          },
          "metadata": {
            "tags": []
          },
          "execution_count": 81
        }
      ]
    },
    {
      "cell_type": "code",
      "metadata": {
        "id": "b6fsu9tqcBBW",
        "colab_type": "code",
        "colab": {}
      },
      "source": [
        "# manually inputting 3 missing data points\n",
        "df_append = pd.DataFrame({\"TransactionId\":['TransactionId_45455', 'TransactionId_33520','TransactionId_10014'], \"FraudResult\":[0.0, 0.0, 0.0]}) "
      ],
      "execution_count": 0,
      "outputs": []
    },
    {
      "cell_type": "code",
      "metadata": {
        "id": "k_ybg_rPdohS",
        "colab_type": "code",
        "colab": {
          "base_uri": "https://localhost:8080/",
          "height": 142
        },
        "outputId": "73687bc2-d4a3-45e7-fbf6-4b14e76156a0"
      },
      "source": [
        "df_append"
      ],
      "execution_count": 94,
      "outputs": [
        {
          "output_type": "execute_result",
          "data": {
            "text/html": [
              "<div>\n",
              "<style scoped>\n",
              "    .dataframe tbody tr th:only-of-type {\n",
              "        vertical-align: middle;\n",
              "    }\n",
              "\n",
              "    .dataframe tbody tr th {\n",
              "        vertical-align: top;\n",
              "    }\n",
              "\n",
              "    .dataframe thead th {\n",
              "        text-align: right;\n",
              "    }\n",
              "</style>\n",
              "<table border=\"1\" class=\"dataframe\">\n",
              "  <thead>\n",
              "    <tr style=\"text-align: right;\">\n",
              "      <th></th>\n",
              "      <th>TransactionId</th>\n",
              "      <th>FraudResult</th>\n",
              "    </tr>\n",
              "  </thead>\n",
              "  <tbody>\n",
              "    <tr>\n",
              "      <th>0</th>\n",
              "      <td>TransactionId_45455</td>\n",
              "      <td>0.0</td>\n",
              "    </tr>\n",
              "    <tr>\n",
              "      <th>1</th>\n",
              "      <td>TransactionId_33520</td>\n",
              "      <td>0.0</td>\n",
              "    </tr>\n",
              "    <tr>\n",
              "      <th>2</th>\n",
              "      <td>TransactionId_10014</td>\n",
              "      <td>0.0</td>\n",
              "    </tr>\n",
              "  </tbody>\n",
              "</table>\n",
              "</div>"
            ],
            "text/plain": [
              "         TransactionId  FraudResult\n",
              "0  TransactionId_45455          0.0\n",
              "1  TransactionId_33520          0.0\n",
              "2  TransactionId_10014          0.0"
            ]
          },
          "metadata": {
            "tags": []
          },
          "execution_count": 94
        }
      ]
    },
    {
      "cell_type": "code",
      "metadata": {
        "id": "cJH4jQKMdwMi",
        "colab_type": "code",
        "colab": {}
      },
      "source": [
        "submissionUpdated = submission_df.append(df_append, ignore_index = True)"
      ],
      "execution_count": 0,
      "outputs": []
    },
    {
      "cell_type": "code",
      "metadata": {
        "id": "BimadyKoZ9hk",
        "colab_type": "code",
        "colab": {
          "base_uri": "https://localhost:8080/",
          "height": 34
        },
        "outputId": "ef5426b4-9eaa-4662-bae3-ede6568a17f5"
      },
      "source": [
        "sample_df.shape"
      ],
      "execution_count": 79,
      "outputs": [
        {
          "output_type": "execute_result",
          "data": {
            "text/plain": [
              "(45019, 2)"
            ]
          },
          "metadata": {
            "tags": []
          },
          "execution_count": 79
        }
      ]
    },
    {
      "cell_type": "code",
      "metadata": {
        "id": "mCZ6n7_YaOXs",
        "colab_type": "code",
        "colab": {}
      },
      "source": [
        "submissionUpdated.to_csv('damonSubmission4.csv', index=False)"
      ],
      "execution_count": 0,
      "outputs": []
    }
  ]
}